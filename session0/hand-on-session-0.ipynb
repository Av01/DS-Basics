{
 "cells": [
  {
   "cell_type": "markdown",
   "metadata": {},
   "source": [
    "# Necessary import"
   ]
  },
  {
   "cell_type": "code",
   "execution_count": 1,
   "metadata": {},
   "outputs": [],
   "source": [
    "import numpy as np\n",
    "import pandas as pd\n",
    "import matplotlib.pyplot as plt\n",
    "import sklearn"
   ]
  },
  {
   "cell_type": "markdown",
   "metadata": {},
   "source": [
    "# Section 1: Basic Python Elements"
   ]
  },
  {
   "cell_type": "markdown",
   "metadata": {},
   "source": [
    "## A. Variables and Simple Data Types"
   ]
  },
  {
   "cell_type": "code",
   "execution_count": 2,
   "metadata": {},
   "outputs": [
    {
     "name": "stdout",
     "output_type": "stream",
     "text": [
      "True\n",
      "30\n",
      "5.8\n",
      "Alice\n"
     ]
    }
   ],
   "source": [
    "# Variables:  Named storage locations for data.\n",
    "# Data Type:  The type of data that a variable can hold.\n",
    "# Python has built-in types like: int, float, str, bool, list, tuple, dict, set.\n",
    "\n",
    "is_student = True # Boolean variable\n",
    "age = 30       # Integer variable\n",
    "height = 5.8   # Float variable\n",
    "name = \"Alice\"  # String variable\n",
    "\n",
    "print(is_student)\n",
    "print(age)\n",
    "print(height)\n",
    "print(name)"
   ]
  },
  {
   "cell_type": "markdown",
   "metadata": {},
   "source": [
    "## B. Complex Data Types"
   ]
  },
  {
   "cell_type": "code",
   "execution_count": 3,
   "metadata": {},
   "outputs": [
    {
     "name": "stdout",
     "output_type": "stream",
     "text": [
      "[1, 2, 3, 4, 5]\n",
      "(10, 20, 30)\n",
      "{0, 1, 2, 3, 4}\n",
      "{'name': 'John', 'age': 25}\n"
     ]
    }
   ],
   "source": [
    "# Complex Data Types: Ways to store multiple values in a single variable.\n",
    "\n",
    "numbers = [1, 2, 3, 4, 5]  # List\n",
    "multiple_of_10 = (10, 20, 30)    # Tuple\n",
    "n_mod_5 = {0, 1, 2, 3, 4}  # Set\n",
    "john_doe = {\"name\": \"John\", \"age\": 25}  # Dictionary\n",
    "\n",
    "print(numbers)\n",
    "print(multiple_of_10)\n",
    "print(n_mod_5)\n",
    "print(john_doe)"
   ]
  },
  {
   "cell_type": "markdown",
   "metadata": {},
   "source": [
    "## C. Operations"
   ]
  },
  {
   "cell_type": "code",
   "execution_count": 4,
   "metadata": {},
   "outputs": [
    {
     "name": "stdout",
     "output_type": "stream",
     "text": [
      "40\n",
      "60\n",
      "Alice Smith\n",
      "5\n",
      "AliceAliceAlice\n"
     ]
    }
   ],
   "source": [
    "# Operations:  Actions performed on data.\n",
    "sum_of_ages = age + 10  # Addition\n",
    "product = age * 2      # Multiplication\n",
    "full_name = name + \" Smith\"  # String concatenation\n",
    "string_length = len(name) # Length of string\n",
    "string_multiply = name * 3 # String multiplication\n",
    "\n",
    "print(sum_of_ages)\n",
    "print(product)\n",
    "print(full_name)\n",
    "print(string_length)\n",
    "print(string_multiply)"
   ]
  },
  {
   "cell_type": "code",
   "execution_count": 5,
   "metadata": {},
   "outputs": [
    {
     "name": "stdout",
     "output_type": "stream",
     "text": [
      "Length of numbers: 5\n",
      "Number at index 3: 4\n",
      "Middle numbers: [2, 3, 4]\n",
      "Last number: 5\n",
      "Another way to get middle numbers: [2, 3, 4]\n",
      "Extra numbers: [1, 2, 3, 4, 5, 6, 7, 8]\n",
      "Add more numbers: [1, 2, 3, 4, 5, 6, 7, 8, 9, 10]\n",
      "Added 11: [1, 2, 3, 4, 5, 6, 7, 8, 9, 10, 11]\n",
      "Removed 1: [2, 3, 4, 5, 6, 7, 8, 9, 10, 11]\n",
      "Reverse Sorted: [11, 10, 9, 8, 7, 6, 5, 4, 3, 2]\n"
     ]
    }
   ],
   "source": [
    "# Operations: On list\n",
    "numbers = [1, 2, 3, 4, 5]\n",
    "\n",
    "# 1. Finding the length of the list\n",
    "length_of_numbers = len(numbers)\n",
    "print(\"Length of numbers:\", length_of_numbers)  # Output: 5\n",
    "\n",
    "# 2. Accessing elements using index\n",
    "num = numbers[3]  # Access the element at index 3 (fourth element)\n",
    "print(\"Number at index 3:\", num)  # Output: 4\n",
    "\n",
    "# 3. Slicing the list\n",
    "middle_numbers = numbers[1:4]  # Elements from index 1 (inclusive) to 4 (exclusive)\n",
    "print(\"Middle numbers:\", middle_numbers)  # Output: [2, 3, 4]\n",
    "\n",
    "# 4. Negative indexing\n",
    "last_number = numbers[-1]  # Access the last element\n",
    "print(\"Last number:\", last_number)  # Output: 5\n",
    "\n",
    "# 5. Slicing with negative index\n",
    "another_middle = numbers[1:-1] # Elements from index 1 (inclusive) up to the last (exclusive)\n",
    "print(\"Another way to get middle numbers:\", another_middle) # Output: [2, 3, 4]\n",
    "\n",
    "# 6. Concatenating lists\n",
    "extra_numbers = numbers + [6, 7, 8]\n",
    "print(\"Extra numbers:\", extra_numbers) # Output: [1, 2, 3, 4, 5, 6, 7, 8]\n",
    "\n",
    "# 7. Extending a list (in-place modification)\n",
    "extra_numbers.extend([9, 10])\n",
    "print(\"Add more numbers:\", extra_numbers) # Output: [1, 2, 3, 4, 5, 6, 7, 8, 9, 10]\n",
    "\n",
    "# 8. Appending an element (in-place modification)\n",
    "extra_numbers.append(11)\n",
    "print(\"Added 11:\", extra_numbers) # Output: [1, 2, 3, 4, 5, 6, 7, 8, 9, 10, 11]\n",
    "\n",
    "# 9. Removing an element (in-place modification)\n",
    "extra_numbers.remove(1) #Removes the first occurence of 1.\n",
    "print(\"Removed 1:\", extra_numbers) # Output: [2, 3, 4, 5, 6, 7, 8, 9, 10, 11]\n",
    "\n",
    "# 10. Sorting the list (in-place modification)\n",
    "extra_numbers.sort(reverse=True) #Sorts the list in descending order\n",
    "print(\"Reverse Sorted:\", extra_numbers) # Output: [11, 10, 9, 8, 7, 6, 5, 4, 3, 2]"
   ]
  },
  {
   "cell_type": "code",
   "execution_count": 6,
   "metadata": {},
   "outputs": [
    {
     "name": "stdout",
     "output_type": "stream",
     "text": [
      "Name: John\n",
      "Age: 25\n",
      "City: Unknown\n",
      "Modifying age: {'name': 'John', 'age': 26}\n",
      "Adding city: {'name': 'John', 'age': 26, 'city': 'New York'}\n",
      "After removing city {'name': 'John', 'age': 26}\n",
      "Age 26\n",
      "After removing age {'name': 'John'}\n",
      "Length of dictionary 1\n",
      "Keys dict_keys(['name'])\n",
      "Values dict_values(['John'])\n",
      "Items dict_items([('name', 'John')])\n",
      "True\n"
     ]
    }
   ],
   "source": [
    "# Operations: On Dictionary\n",
    "\n",
    "john_doe = {\"name\": \"John\", \"age\": 25}  # Dictionary\n",
    "\n",
    "# 1. Accessing values\n",
    "print(\"Name:\", john_doe[\"name\"])  # Output: John\n",
    "print(\"Age:\", john_doe.get(\"age\")) # Output: 25\n",
    "print(\"City:\", john_doe.get(\"city\", \"Unknown\")) # Output: Unknown (if key doesn't exist)\n",
    "\n",
    "\n",
    "# 2. Modifying values\n",
    "john_doe[\"age\"] = 26  \n",
    "print(\"Modifying age:\", john_doe) # Output: {'name': 'John', 'age': 26}\n",
    "\n",
    "john_doe[\"city\"] = \"New York\"  # Adding a new key-value pair\n",
    "print(\"Adding city:\", john_doe) # Output: {'name': 'John', 'age': 26, 'city': 'New York'}\n",
    "\n",
    "\n",
    "# 3. Deleting values\n",
    "del john_doe[\"city\"]\n",
    "print(\"After removing city\", john_doe)  # Output: {'name': 'John', 'age': 26}\n",
    "\n",
    "age = john_doe.pop(\"age\", None) # Output: None (if key doesn't exist, returns default value)\n",
    "print(\"Age\",age)\n",
    "print(\"After removing age\", john_doe)  # Output: {'name': 'John'}\n",
    "\n",
    "\n",
    "# 4. Other operations\n",
    "print(\"Length of dictionary\",len(john_doe)) # Output: 1\n",
    "\n",
    "keys = john_doe.keys() # returns a view object that displays a list of all the keys in the dictionary\n",
    "print(\"Keys\",keys) # Output: dict_keys(['name'])\n",
    "\n",
    "values = john_doe.values() # returns a view object that displays a list of all the values in the dictionary\n",
    "print(\"Values\",values) # Output: dict_values(['John'])\n",
    "\n",
    "items = john_doe.items() # returns a view object that displays a list of all the items(key-value pairs) in the dictionary\n",
    "print(\"Items\",items) # Output: dict_items([('name', 'John')])\n",
    "\n",
    "# 5. checking if key exists\n",
    "print(\"name\" in john_doe) #Output: True"
   ]
  },
  {
   "cell_type": "markdown",
   "metadata": {},
   "source": [
    "## D. Control Structures"
   ]
  },
  {
   "cell_type": "code",
   "execution_count": 7,
   "metadata": {},
   "outputs": [
    {
     "name": "stdout",
     "output_type": "stream",
     "text": [
      "Alice is a teenager.\n",
      "Based on the age of 15, the person is classified as: Teenager\n",
      "Printing numbers from 0 to 4 using a for loop:\n",
      "Current number: 0\n",
      "Current number: 1\n",
      "Current number: 2\n",
      "Current number: 3\n",
      "Current number: 4\n",
      "The list created using list comprehension (range 0 to 4): [0, 1, 2, 3, 4]\n",
      "The list of even numbers between 0 and 9: [0, 2, 4, 6, 8]\n",
      "Looping through a list of fruits:\n",
      "Fruit: apple\n",
      "Fruit: banana\n",
      "Fruit: cherry\n",
      "Looping through a dictionary (key-value pairs):\n",
      "Key: name, Value: John\n",
      "Key: age, Value: 30\n",
      "Starting the while loop with count from 0 to 2:\n",
      "Count value is currently: 0\n",
      "Count value is currently: 1\n",
      "Count value is currently: 2\n"
     ]
    }
   ],
   "source": [
    "# Control Structures: Control the flow of execution.\n",
    "\n",
    "age = 15  # Variable holding the age value\n",
    "\n",
    "# Conditional statement (if-elif-else):\n",
    "if age >= 18:  # Check if age is greater than or equal to 18\n",
    "  print(name + \" is an adult.\")  # Print if the person is an adult\n",
    "elif age >= 13:  # Check if age is between 13 and 17\n",
    "  print(name + \" is a teenager.\")  # Print if the person is a teenager\n",
    "else:  # If age is less than 13\n",
    "  print(name + \" is a child.\")  # Print if the person is a child\n",
    "\n",
    "# In-line conditional variable (ternary operator):\n",
    "# Conditionally assigns a value to `in_line_condition` based on the age\n",
    "in_line_condition = \"Adult\" if age >= 18 else (\"Teenager\" if age >= 13 else \"Child\")\n",
    "print(\"Based on the age of \" + str(age) + \", the person is classified as: \" + in_line_condition)  # Print the result of the conditional assignment\n",
    "\n",
    "# Looping (for loop):\n",
    "# This loop will iterate over a range of numbers from 0 to 4\n",
    "print(\"Printing numbers from 0 to 4 using a for loop:\")\n",
    "for i in range(5):\n",
    "    print(\"Current number: \" + str(i))  # Print each number in the range\n",
    "\n",
    "# List comprehension: Creates a list with numbers from 0 to 4\n",
    "in_line_list = [i for i in range(5)]\n",
    "print(\"The list created using list comprehension (range 0 to 4): \" + str(in_line_list))  # Prints the list [0, 1, 2, 3, 4]\n",
    "\n",
    "# List comprehension with a condition: Creates a list with even numbers from 0 to 9\n",
    "in_line_list_even = [i for i in range(10) if i % 2 == 0]\n",
    "print(\"The list of even numbers between 0 and 9: \" + str(in_line_list_even))  # Prints the list of even numbers [0, 2, 4, 6, 8]\n",
    "\n",
    "# Looping through a list of fruits\n",
    "print(\"Looping through a list of fruits:\")\n",
    "for fruit in [\"apple\", \"banana\", \"cherry\"]:\n",
    "    print(\"Fruit: \" + fruit)  # Prints each fruit in the list\n",
    "\n",
    "# Looping through a dictionary (key-value pairs)\n",
    "print(\"Looping through a dictionary (key-value pairs):\")\n",
    "for key, value in {\"name\": \"John\", \"age\": 30}.items():  # .items() returns key-value pairs\n",
    "    print(\"Key: \" + key + \", Value: \" + str(value))  # Prints each key-value pair (e.g., 'name John', 'age 30')\n",
    "\n",
    "# Looping (while loop):\n",
    "count = 0  # Initialize counter variable\n",
    "print(\"Starting the while loop with count from 0 to 2:\")\n",
    "while count < 3:  # Loop runs as long as count is less than 3\n",
    "    print(\"Count value is currently: \" + str(count))  # Prints the current value of count\n",
    "    count += 1  # Increment count by 1 after each iteration"
   ]
  },
  {
   "cell_type": "markdown",
   "metadata": {},
   "source": [
    "## E. Functions"
   ]
  },
  {
   "cell_type": "code",
   "execution_count": 8,
   "metadata": {},
   "outputs": [
    {
     "name": "stdout",
     "output_type": "stream",
     "text": [
      "Hello, John!\n",
      "4\n"
     ]
    }
   ],
   "source": [
    "# Functions:  Reusable blocks of code that perform specific tasks.\n",
    "def greet(person_name):\n",
    "    \"\"\"This function greets the person passed in as a parameter.\"\"\"\n",
    "    return (\"Hello, \" + person_name + \"!\")\n",
    "\n",
    "print(greet(\"John\")) # Calling the greet function\n",
    "\n",
    "def add_one(a):\n",
    "    return a + 1\n",
    "\n",
    "print(add_one(3))"
   ]
  },
  {
   "cell_type": "markdown",
   "metadata": {},
   "source": [
    "## F. Objects"
   ]
  },
  {
   "cell_type": "code",
   "execution_count": 9,
   "metadata": {},
   "outputs": [
    {
     "name": "stdout",
     "output_type": "stream",
     "text": [
      "Buddy\n",
      "Woof!\n"
     ]
    }
   ],
   "source": [
    "# Objects:  Instances of classes, combining data (attributes) and functions (methods).\n",
    "class Dog:\n",
    "    def __init__(self, name, breed):\n",
    "      self.name = name\n",
    "      self.breed = breed\n",
    "    \n",
    "    def bark(self):\n",
    "      print(\"Woof!\")\n",
    "\n",
    "my_dog = Dog(\"Buddy\", \"Golden Retriever\")  # Creating an object (instance) of the Dog class\n",
    "print(my_dog.name)      # Accessing an attribute\n",
    "my_dog.bark()        # Calling a method\n"
   ]
  },
  {
   "cell_type": "markdown",
   "metadata": {},
   "source": [
    "# Section 2: Adding those skills to Python"
   ]
  },
  {
   "cell_type": "markdown",
   "metadata": {},
   "source": [
    "## Imports"
   ]
  },
  {
   "cell_type": "code",
   "execution_count": 10,
   "metadata": {},
   "outputs": [],
   "source": [
    "import importlib\n",
    "import src\n",
    "importlib.reload(src)\n",
    "\n",
    "from src import Matrix, Numpy, DataFrame, Pandas, SklearnLinearRegression"
   ]
  },
  {
   "cell_type": "markdown",
   "metadata": {},
   "source": [
    "## A. Matrix"
   ]
  },
  {
   "cell_type": "code",
   "execution_count": 11,
   "metadata": {},
   "outputs": [
    {
     "name": "stdout",
     "output_type": "stream",
     "text": [
      "Shape: (2, 3)\n",
      "Data: [\n",
      "[1, 2, 3]\n",
      "[4, 5, 6]\n",
      "]\n"
     ]
    }
   ],
   "source": [
    "# Create a Matrix object\n",
    "m = Matrix([[1,2,3],[4,5,6]],(2,3))  \n",
    "print(m)  # Output: Shape: (2, 3)\\n [[1, 2, 3], [4, 5, 6]]"
   ]
  },
  {
   "cell_type": "code",
   "execution_count": 12,
   "metadata": {},
   "outputs": [],
   "source": [
    "# The following examples are commented out because they would raise ValueErrors\n",
    "# This is showing why validations are in place\n",
    "\n",
    "## Incorrect shape - not a tuple\n",
    "# m = Matrix([[1,2,3],[4,5,6]],[4,3]) \n",
    "# print(m)\n",
    "\n",
    "## Incorrect shape - tuple with wrong length\n",
    "# m = Matrix([[1,2,3],[4,5,6]],(4,3,5))  \n",
    "# print(m)\n",
    "\n",
    "## Data doesn't match shape\n",
    "# m = Matrix([[1,2,3],[4,5,6]],(2,4))  \n",
    "# print(m)\n",
    "\n",
    "## Invalid data element (nested list)\n",
    "# m = Matrix([[1,2,3],[4,5,[6]]],(2,3))  \n",
    "# print(m)"
   ]
  },
  {
   "cell_type": "code",
   "execution_count": 13,
   "metadata": {},
   "outputs": [
    {
     "name": "stdout",
     "output_type": "stream",
     "text": [
      "Shape: (3, 3)\n",
      "Data: [\n",
      "[1, 2, 3]\n",
      "[4, 5, 6]\n",
      "[7, 8, 9]\n",
      "]\n",
      "3\n",
      "[2, 5, 8]\n",
      "[1, 2, 3]\n"
     ]
    }
   ],
   "source": [
    "m2 = Matrix([[1,2,3],[4,5,6],[7,8,9]],(3,3))  \n",
    "print(m2)  # Output: Shape: (3, 3)\\n [[1, 2, 3], [4, 5, 6], [7, 8, 9]]\n",
    "\n",
    "print(m2.get_element(0,2))\n",
    "print(m2.get_column(1))\n",
    "print(m2.get_row(0))"
   ]
  },
  {
   "cell_type": "code",
   "execution_count": 14,
   "metadata": {},
   "outputs": [
    {
     "name": "stdout",
     "output_type": "stream",
     "text": [
      "Shape: (3, 3)\n",
      "Data: [\n",
      "[1, 2, -1]\n",
      "[4, 5, 6]\n",
      "[7, 8, 9]\n",
      "]\n"
     ]
    }
   ],
   "source": [
    "m2.set_element(0,2,-1)\n",
    "print(m2)"
   ]
  },
  {
   "cell_type": "code",
   "execution_count": 15,
   "metadata": {},
   "outputs": [
    {
     "name": "stdout",
     "output_type": "stream",
     "text": [
      "Shape: (4, 3)\n",
      "Data: [\n",
      "[1, 2, -1]\n",
      "[4, 5, 6]\n",
      "[7, 8, 9]\n",
      "[10, 11, 12]\n",
      "]\n"
     ]
    }
   ],
   "source": [
    "m2.add_row([10,11,12])\n",
    "print(m2)"
   ]
  },
  {
   "cell_type": "code",
   "execution_count": 16,
   "metadata": {},
   "outputs": [
    {
     "name": "stdout",
     "output_type": "stream",
     "text": [
      "Shape: (4, 4)\n",
      "Data: [\n",
      "[1, 2, -1, 13]\n",
      "[4, 5, 6, 14]\n",
      "[7, 8, 9, 15]\n",
      "[10, 11, 12, 16]\n",
      "]\n"
     ]
    }
   ],
   "source": [
    "m2.add_column([13,14,15,16])\n",
    "print(m2)"
   ]
  },
  {
   "cell_type": "markdown",
   "metadata": {},
   "source": [
    "## B. Numpy"
   ]
  },
  {
   "cell_type": "code",
   "execution_count": 17,
   "metadata": {},
   "outputs": [
    {
     "name": "stdout",
     "output_type": "stream",
     "text": [
      "Shape: (1, 1)\n",
      "Data: [\n",
      "[1]\n",
      "]\n"
     ]
    }
   ],
   "source": [
    "print(Numpy.array([[1]], (1,1)))"
   ]
  },
  {
   "cell_type": "code",
   "execution_count": 18,
   "metadata": {},
   "outputs": [
    {
     "name": "stdout",
     "output_type": "stream",
     "text": [
      "Shape: (3, 3)\n",
      "Data: [\n",
      "[0, 0, 0]\n",
      "[0, 0, 0]\n",
      "[0, 0, 0]\n",
      "]\n",
      "Shape: (3, 2)\n",
      "Data: [\n",
      "[1, 1]\n",
      "[1, 1]\n",
      "[1, 1]\n",
      "]\n",
      "Shape: (4, 4)\n",
      "Data: [\n",
      "[1, 0, 0, 0]\n",
      "[0, 1, 0, 0]\n",
      "[0, 0, 1, 0]\n",
      "[0, 0, 0, 1]\n",
      "]\n"
     ]
    }
   ],
   "source": [
    "zero = Numpy.zeros((3,3))\n",
    "print(zero)\n",
    "\n",
    "\n",
    "ones = Numpy.ones((3,2))\n",
    "print(ones)\n",
    "\n",
    "\n",
    "I_4 = Numpy.eye((4,4))\n",
    "print(I_4)"
   ]
  },
  {
   "cell_type": "code",
   "execution_count": 19,
   "metadata": {},
   "outputs": [
    {
     "name": "stdout",
     "output_type": "stream",
     "text": [
      "Shape: (3, 3)\n",
      "Data: [\n",
      "[1, 2, 3]\n",
      "[4, 5, 6]\n",
      "[9, 7, 8]\n",
      "]\n",
      "[14, 14, 17]\n",
      "[6, 15, 24]\n",
      "45\n"
     ]
    }
   ],
   "source": [
    "m = Matrix([[1,2,3],[4,5,6],[9,7,8]],(3,3))\n",
    "print(m)\n",
    "\n",
    "print(Numpy.sum(m, axis=0))\n",
    "print(Numpy.sum(m, axis=1))\n",
    "print(Numpy.sum(m))"
   ]
  },
  {
   "cell_type": "code",
   "execution_count": 20,
   "metadata": {},
   "outputs": [
    {
     "name": "stdout",
     "output_type": "stream",
     "text": [
      "[4.666666666666667, 4.666666666666667, 5.666666666666667]\n",
      "[2.0, 5.0, 8.0]\n",
      "5.0\n"
     ]
    }
   ],
   "source": [
    "print(Numpy.mean(m, axis=0))\n",
    "print(Numpy.mean(m, axis=1))\n",
    "print(Numpy.mean(m))"
   ]
  },
  {
   "cell_type": "code",
   "execution_count": 21,
   "metadata": {},
   "outputs": [
    {
     "name": "stdout",
     "output_type": "stream",
     "text": [
      "Shape: (3, 3)\n",
      "Data: [\n",
      "[1, 4, 9]\n",
      "[2, 5, 7]\n",
      "[3, 6, 8]\n",
      "]\n"
     ]
    }
   ],
   "source": [
    "m_T = Numpy.transpose(m)\n",
    "print(m_T)"
   ]
  },
  {
   "cell_type": "code",
   "execution_count": 22,
   "metadata": {},
   "outputs": [
    {
     "name": "stdout",
     "output_type": "stream",
     "text": [
      "Shape: (3, 3)\n",
      "Data: [\n",
      "[14, 32, 47]\n",
      "[32, 77, 119]\n",
      "[47, 119, 194]\n",
      "]\n"
     ]
    }
   ],
   "source": [
    "m_2 = Numpy.dot(m,m_T)\n",
    "print(m_2)"
   ]
  },
  {
   "cell_type": "code",
   "execution_count": 23,
   "metadata": {},
   "outputs": [
    {
     "name": "stdout",
     "output_type": "stream",
     "text": [
      "Shape: (3, 3)\n",
      "Data: [\n",
      "[0.22222222222222232, -0.5555555555555556, 0.3333333333333333]\n",
      "[-2.444444444444445, 2.1111111111111116, -0.6666666666666667]\n",
      "[1.8888888888888893, -1.2222222222222225, 0.33333333333333337]\n",
      "]\n"
     ]
    }
   ],
   "source": [
    "m_inv = Numpy.inverse(m)\n",
    "print(m_inv)"
   ]
  },
  {
   "cell_type": "code",
   "execution_count": 24,
   "metadata": {},
   "outputs": [
    {
     "name": "stdout",
     "output_type": "stream",
     "text": [
      "Shape: (3, 3)\n",
      "Data: [\n",
      "[1.0, 0.0, -2.220446049250313e-16]\n",
      "[0.0, 1.0, -8.881784197001252e-16]\n",
      "[0.0, 1.7763568394002505e-15, 1.0]\n",
      "]\n"
     ]
    }
   ],
   "source": [
    "print(Numpy.dot(m, m_inv))"
   ]
  },
  {
   "cell_type": "code",
   "execution_count": 25,
   "metadata": {},
   "outputs": [
    {
     "name": "stdout",
     "output_type": "stream",
     "text": [
      "Shape: (3, 3)\n",
      "Data: [\n",
      "[1.0, 0.0, 0.0]\n",
      "[8.881784197001252e-16, 1.0, 0.0]\n",
      "[-4.440892098500626e-16, -4.440892098500626e-16, 0.9999999999999991]\n",
      "]\n"
     ]
    }
   ],
   "source": [
    "print(Numpy.dot(m_inv, m))"
   ]
  },
  {
   "cell_type": "markdown",
   "metadata": {},
   "source": [
    "## C. DataFrame"
   ]
  },
  {
   "cell_type": "code",
   "execution_count": 26,
   "metadata": {},
   "outputs": [
    {
     "name": "stdout",
     "output_type": "stream",
     "text": [
      "Shape: (2, 3)\n",
      "----------------------------------------\n",
      "     |  a   |  b   |  c  \n",
      "----------------------------------------\n",
      " 0   |  1   |  2   |  3  \n",
      "----------------------------------------\n",
      " 1   |  4   |  5   |  6  \n",
      "----------------------------------------\n",
      "\n"
     ]
    }
   ],
   "source": [
    "# Example usage:\n",
    "m = Matrix([[1, 2, 3], [4, 5, 6]], (2, 3))  # Create a Matrix object\n",
    "df = DataFrame(m, [\"a\", \"b\", \"c\"])  # Create a DataFrame with the Matrix and column names\n",
    "print(df)  # Print the DataFrame object"
   ]
  },
  {
   "cell_type": "code",
   "execution_count": 27,
   "metadata": {},
   "outputs": [
    {
     "data": {
      "text/plain": [
       "[2, 5]"
      ]
     },
     "execution_count": 27,
     "metadata": {},
     "output_type": "execute_result"
    }
   ],
   "source": [
    "df.get('b',1)"
   ]
  },
  {
   "cell_type": "code",
   "execution_count": 28,
   "metadata": {},
   "outputs": [
    {
     "data": {
      "text/plain": [
       "[4, 5, 6]"
      ]
     },
     "execution_count": 28,
     "metadata": {},
     "output_type": "execute_result"
    }
   ],
   "source": [
    "df.get(1,0)"
   ]
  },
  {
   "cell_type": "code",
   "execution_count": 29,
   "metadata": {},
   "outputs": [
    {
     "name": "stdout",
     "output_type": "stream",
     "text": [
      "Shape: (3, 3)\n",
      "----------------------------------------\n",
      "     |  a   |  b   |  c  \n",
      "----------------------------------------\n",
      " 0   |  1   |  2   |  3  \n",
      "----------------------------------------\n",
      " 1   |  4   |  5   |  6  \n",
      "----------------------------------------\n",
      " 2   |  7   |  8   |  9  \n",
      "----------------------------------------\n",
      "\n"
     ]
    }
   ],
   "source": [
    "df.assign(2, [7, 8, 9],0)\n",
    "print(df) "
   ]
  },
  {
   "cell_type": "code",
   "execution_count": 30,
   "metadata": {},
   "outputs": [
    {
     "name": "stdout",
     "output_type": "stream",
     "text": [
      "Shape: (3, 4)\n",
      "--------------------------------------------------\n",
      "     |  a   |  b   |  c   |  d  \n",
      "--------------------------------------------------\n",
      " 0   |  1   |  2   |  3   |  11 \n",
      "--------------------------------------------------\n",
      " 1   |  4   |  5   |  6   |  12 \n",
      "--------------------------------------------------\n",
      " 2   |  7   |  8   |  9   |  13 \n",
      "--------------------------------------------------\n",
      "\n"
     ]
    }
   ],
   "source": [
    "df.assign('d', [11,12,13],1)\n",
    "print(df) "
   ]
  },
  {
   "cell_type": "markdown",
   "metadata": {},
   "source": [
    "## D. Pandas"
   ]
  },
  {
   "cell_type": "code",
   "execution_count": 31,
   "metadata": {},
   "outputs": [
    {
     "name": "stdout",
     "output_type": "stream",
     "text": [
      "Shape: (3, 4)\n",
      "--------------------------------------------------\n",
      "     |  a   |  b   |  c   |  d  \n",
      "--------------------------------------------------\n",
      "mean | 4.0  | 5.0  | 6.0  | 12.0\n",
      "--------------------------------------------------\n",
      "min  |  1   |  2   |  3   |  11 \n",
      "--------------------------------------------------\n",
      "max  |  7   |  8   |  9   |  13 \n",
      "--------------------------------------------------\n",
      "\n"
     ]
    }
   ],
   "source": [
    "print(Pandas.describe(df))\n"
   ]
  },
  {
   "cell_type": "markdown",
   "metadata": {},
   "source": [
    "## E. Sklearn"
   ]
  },
  {
   "cell_type": "code",
   "execution_count": 32,
   "metadata": {},
   "outputs": [
    {
     "name": "stdout",
     "output_type": "stream",
     "text": [
      "Shape: (2, 1)\n",
      "Data: [\n",
      "[3.000000000000007]\n",
      "[2.0000000000000053]\n",
      "]\n"
     ]
    }
   ],
   "source": [
    "model = SklearnLinearRegression()\n",
    "\n",
    "X = Matrix([[2],[3]],(2,1))\n",
    "y = Matrix([[7],[9]],(2,1))\n",
    "\n",
    "model.fit(X,y)\n",
    "print(model.coef)"
   ]
  },
  {
   "cell_type": "code",
   "execution_count": 33,
   "metadata": {},
   "outputs": [
    {
     "name": "stdout",
     "output_type": "stream",
     "text": [
      "Shape: (2, 1)\n",
      "Data: [\n",
      "[7.000000000000018]\n",
      "[9.000000000000023]\n",
      "]\n"
     ]
    }
   ],
   "source": [
    "print(model.predict(X))"
   ]
  },
  {
   "cell_type": "markdown",
   "metadata": {},
   "source": [
    "# Section 3. Putting it all together"
   ]
  },
  {
   "cell_type": "code",
   "execution_count": 34,
   "metadata": {},
   "outputs": [
    {
     "name": "stdout",
     "output_type": "stream",
     "text": [
      "Shape: (100, 1)\n",
      "----------------------------------\n",
      "            |   feature1 \n",
      "----------------------------------\n",
      "     0      | 0.931280...\n",
      "----------------------------------\n",
      "     1      | 0.087047...\n",
      "----------------------------------\n",
      "     2      | -1.05771...\n",
      "----------------------------------\n",
      "     3      | 0.314247...\n",
      "----------------------------------\n",
      "     4      | -0.47917...\n",
      "----------------------------------\n",
      "     5      | 0.647688...\n",
      "----------------------------------\n",
      "     6      | -0.46341...\n",
      "----------------------------------\n",
      "     7      | 0.542560...\n",
      "----------------------------------\n",
      "     8      | 0.611676...\n",
      "----------------------------------\n",
      "     9      | 1.003532...\n",
      "----------------------------------\n",
      "     10     | 0.821902...\n",
      "----------------------------------\n",
      "     11     | 1.538036...\n",
      "----------------------------------\n",
      "     12     | 0.738466...\n",
      "----------------------------------\n",
      "     13     | -0.21967...\n",
      "----------------------------------\n",
      "     14     | -0.80849...\n",
      "----------------------------------\n",
      "     15     | 0.091760...\n",
      "----------------------------------\n",
      "     16     | -1.95967...\n",
      "----------------------------------\n",
      "     17     | 0.513267...\n",
      "----------------------------------\n",
      "     18     | 1.030999...\n",
      "----------------------------------\n",
      "     19     | -2.61974...\n",
      "----------------------------------\n",
      "     20     | 0.496714...\n",
      "----------------------------------\n",
      "     21     | 0.097077...\n",
      "----------------------------------\n",
      "     22     | -0.46572...\n",
      "----------------------------------\n",
      "     23     | 0.915402...\n",
      "----------------------------------\n",
      "     24     | 1.564643...\n",
      "----------------------------------\n",
      "     25     | 1.465648...\n",
      "----------------------------------\n",
      "     26     | -0.60063...\n",
      "----------------------------------\n",
      "     27     | -0.03582...\n",
      "----------------------------------\n",
      "     28     | -0.60170...\n",
      "----------------------------------\n",
      "     29     | -1.19620...\n",
      "----------------------------------\n",
      "     30     | 0.357112...\n",
      "----------------------------------\n",
      "     31     | 0.375698...\n",
      "----------------------------------\n",
      "     32     | 0.261055...\n",
      "----------------------------------\n",
      "     33     | -0.52976...\n",
      "----------------------------------\n",
      "     34     | -0.90802...\n",
      "----------------------------------\n",
      "     35     | 0.196861...\n",
      "----------------------------------\n",
      "     36     | -0.29900...\n",
      "----------------------------------\n",
      "     37     | 0.361636...\n",
      "----------------------------------\n",
      "     38     | 0.822544...\n",
      "----------------------------------\n",
      "     39     | -0.29169...\n",
      "----------------------------------\n",
      "     40     | 0.361395...\n",
      "----------------------------------\n",
      "     41     | -0.67692...\n",
      "----------------------------------\n",
      "     42     | 1.523029...\n",
      "----------------------------------\n",
      "     43     | -0.51827...\n",
      "----------------------------------\n",
      "     44     | -0.23415...\n",
      "----------------------------------\n",
      "     45     | -0.39210...\n",
      "----------------------------------\n",
      "     46     | -0.30110...\n",
      "----------------------------------\n",
      "     47     | -0.64511...\n",
      "----------------------------------\n",
      "     48     | 0.328751...\n",
      "----------------------------------\n",
      "     49     | 0.208863...\n",
      "----------------------------------\n",
      "     50     | -0.32766...\n",
      "----------------------------------\n",
      "     51     | 0.005113...\n",
      "----------------------------------\n",
      "     52     | -0.23413...\n",
      "----------------------------------\n",
      "     53     | 1.477894...\n",
      "----------------------------------\n",
      "     54     | -0.38508...\n",
      "----------------------------------\n",
      "     55     | 0.343618...\n",
      "----------------------------------\n",
      "     56     | 0.331263...\n",
      "----------------------------------\n",
      "     57     | -0.18565...\n",
      "----------------------------------\n",
      "     58     | -0.23458...\n",
      "----------------------------------\n",
      "     59     | -1.98756...\n",
      "----------------------------------\n",
      "     60     | 0.324083...\n",
      "----------------------------------\n",
      "     61     | -0.22577...\n",
      "----------------------------------\n",
      "     62     | -1.10633...\n",
      "----------------------------------\n",
      "     63     | -0.70205...\n",
      "----------------------------------\n",
      "     64     | -1.46351...\n",
      "----------------------------------\n",
      "     65     | 0.968644...\n",
      "----------------------------------\n",
      "     66     | -1.72491...\n",
      "----------------------------------\n",
      "     67     | -1.91328...\n",
      "----------------------------------\n",
      "     68     | -0.56228...\n",
      "----------------------------------\n",
      "     69     | 0.767434...\n",
      "----------------------------------\n",
      "     70     | 0.812525...\n",
      "----------------------------------\n",
      "     71     | -1.41230...\n",
      "----------------------------------\n",
      "     72     | -1.47852...\n",
      "----------------------------------\n",
      "     73     | -1.22084...\n",
      "----------------------------------\n",
      "     74     | -0.83921...\n",
      "----------------------------------\n",
      "     75     | 1.579212...\n",
      "----------------------------------\n",
      "     76     | 0.975545...\n",
      "----------------------------------\n",
      "     77     | 0.241962...\n",
      "----------------------------------\n",
      "     78     | 0.296120...\n",
      "----------------------------------\n",
      "     79     | -0.54438...\n",
      "----------------------------------\n",
      "     80     | -1.76304...\n",
      "----------------------------------\n",
      "     81     | 0.110922...\n",
      "----------------------------------\n",
      "     82     | 0.171368...\n",
      "----------------------------------\n",
      "     83     | -1.32818...\n",
      "----------------------------------\n",
      "     84     | 1.057122...\n",
      "----------------------------------\n",
      "     85     | -0.11564...\n",
      "----------------------------------\n",
      "     86     | -0.46947...\n",
      "----------------------------------\n",
      "     87     | -0.01349...\n",
      "----------------------------------\n",
      "     88     | -1.01283...\n",
      "----------------------------------\n",
      "     89     | -0.13826...\n",
      "----------------------------------\n",
      "     90     | -1.15099...\n",
      "----------------------------------\n",
      "     91     | 1.356240...\n",
      "----------------------------------\n",
      "     92     | 0.067528...\n",
      "----------------------------------\n",
      "     93     | -0.50175...\n",
      "----------------------------------\n",
      "     94     | -0.46063...\n",
      "----------------------------------\n",
      "     95     | 1.852278...\n",
      "----------------------------------\n",
      "     96     | -1.42474...\n",
      "----------------------------------\n",
      "     97     | -0.71984...\n",
      "----------------------------------\n",
      "     98     | -0.07201...\n",
      "----------------------------------\n",
      "     99     | -0.30921...\n",
      "----------------------------------\n",
      "\n"
     ]
    }
   ],
   "source": [
    "X = Pandas.read_csv('data/X.csv')\n",
    "print(X)"
   ]
  },
  {
   "cell_type": "code",
   "execution_count": 35,
   "metadata": {},
   "outputs": [
    {
     "name": "stdout",
     "output_type": "stream",
     "text": [
      "Shape: (100, 1)\n",
      "------------------------------\n",
      "          |   output \n",
      "------------------------------\n",
      "    0     | 50.779...\n",
      "------------------------------\n",
      "    1     | -10.06...\n",
      "------------------------------\n",
      "    2     | -34.91...\n",
      "------------------------------\n",
      "    3     | 10.526...\n",
      "------------------------------\n",
      "    4     | -17.73...\n",
      "------------------------------\n",
      "    5     | 31.564...\n",
      "------------------------------\n",
      "    6     | -30.06...\n",
      "------------------------------\n",
      "    7     | 5.9120...\n",
      "------------------------------\n",
      "    8     | 23.473...\n",
      "------------------------------\n",
      "    9     | 32.343...\n",
      "------------------------------\n",
      "    10    | 35.765...\n",
      "------------------------------\n",
      "    11    | 76.883...\n",
      "------------------------------\n",
      "    12    | 36.187...\n",
      "------------------------------\n",
      "    13    | 2.9244...\n",
      "------------------------------\n",
      "    14    | -47.81...\n",
      "------------------------------\n",
      "    15    | 12.616...\n",
      "------------------------------\n",
      "    16    | -85.45...\n",
      "------------------------------\n",
      "    17    | 20.051...\n",
      "------------------------------\n",
      "    18    | 28.634...\n",
      "------------------------------\n",
      "    19    | -118.0...\n",
      "------------------------------\n",
      "    20    | 16.778...\n",
      "------------------------------\n",
      "    21    | 2.8107...\n",
      "------------------------------\n",
      "    22    | -29.36...\n",
      "------------------------------\n",
      "    23    | 28.579...\n",
      "------------------------------\n",
      "    24    | 74.715...\n",
      "------------------------------\n",
      "    25    | 64.576...\n",
      "------------------------------\n",
      "    26    | -11.01...\n",
      "------------------------------\n",
      "    27    | 2.7494...\n",
      "------------------------------\n",
      "    28    | -33.92...\n",
      "------------------------------\n",
      "    29    | -62.09...\n",
      "------------------------------\n",
      "    30    | 20.285...\n",
      "------------------------------\n",
      "    31    | 29.522...\n",
      "------------------------------\n",
      "    32    | 5.7670...\n",
      "------------------------------\n",
      "    33    | -21.69...\n",
      "------------------------------\n",
      "    34    | -43.64...\n",
      "------------------------------\n",
      "    35    | -4.011...\n",
      "------------------------------\n",
      "    36    | -20.19...\n",
      "------------------------------\n",
      "    37    | 7.5832...\n",
      "------------------------------\n",
      "    38    | 51.399...\n",
      "------------------------------\n",
      "    39    | 1.7476...\n",
      "------------------------------\n",
      "    40    | 22.784...\n",
      "------------------------------\n",
      "    41    | -31.50...\n",
      "------------------------------\n",
      "    42    | 61.912...\n",
      "------------------------------\n",
      "    43    | -20.69...\n",
      "------------------------------\n",
      "    44    | -7.624...\n",
      "------------------------------\n",
      "    45    | -5.911...\n",
      "------------------------------\n",
      "    46    | -14.17...\n",
      "------------------------------\n",
      "    47    | -38.23...\n",
      "------------------------------\n",
      "    48    | 23.494...\n",
      "------------------------------\n",
      "    49    | 8.8096...\n",
      "------------------------------\n",
      "    50    | -5.906...\n",
      "------------------------------\n",
      "    51    | 7.3145...\n",
      "------------------------------\n",
      "    52    | -29.99...\n",
      "------------------------------\n",
      "    53    | 89.033...\n",
      "------------------------------\n",
      "    54    | 9.3178...\n",
      "------------------------------\n",
      "    55    | 24.781...\n",
      "------------------------------\n",
      "    56    | 20.003...\n",
      "------------------------------\n",
      "    57    | 0.7244...\n",
      "------------------------------\n",
      "    58    | -8.867...\n",
      "------------------------------\n",
      "    59    | -85.35...\n",
      "------------------------------\n",
      "    60    | 27.166...\n",
      "------------------------------\n",
      "    61    | -9.497...\n",
      "------------------------------\n",
      "    62    | -44.43...\n",
      "------------------------------\n",
      "    63    | -33.82...\n",
      "------------------------------\n",
      "    64    | -64.51...\n",
      "------------------------------\n",
      "    65    | 47.835...\n",
      "------------------------------\n",
      "    66    | -78.59...\n",
      "------------------------------\n",
      "    67    | -84.18...\n",
      "------------------------------\n",
      "    68    | -23.43...\n",
      "------------------------------\n",
      "    69    | 46.073...\n",
      "------------------------------\n",
      "    70    | 44.409...\n",
      "------------------------------\n",
      "    71    | -63.16...\n",
      "------------------------------\n",
      "    72    | -65.59...\n",
      "------------------------------\n",
      "    73    | -42.22...\n",
      "------------------------------\n",
      "    74    | -22.03...\n",
      "------------------------------\n",
      "    75    | 56.487...\n",
      "------------------------------\n",
      "    76    | 52.891...\n",
      "------------------------------\n",
      "    77    | 11.123...\n",
      "------------------------------\n",
      "    78    | 3.0999...\n",
      "------------------------------\n",
      "    79    | -30.47...\n",
      "------------------------------\n",
      "    80    | -68.32...\n",
      "------------------------------\n",
      "    81    | 12.361...\n",
      "------------------------------\n",
      "    82    | -1.993...\n",
      "------------------------------\n",
      "    83    | -48.94...\n",
      "------------------------------\n",
      "    84    | 49.686...\n",
      "------------------------------\n",
      "    85    | 1.3781...\n",
      "------------------------------\n",
      "    86    | -19.78...\n",
      "------------------------------\n",
      "    87    | -5.497...\n",
      "------------------------------\n",
      "    88    | -37.49...\n",
      "------------------------------\n",
      "    89    | -8.662...\n",
      "------------------------------\n",
      "    90    | -56.06...\n",
      "------------------------------\n",
      "    91    | 69.862...\n",
      "------------------------------\n",
      "    92    | 10.491...\n",
      "------------------------------\n",
      "    93    | -21.28...\n",
      "------------------------------\n",
      "    94    | -22.79...\n",
      "------------------------------\n",
      "    95    | 78.085...\n",
      "------------------------------\n",
      "    96    | -70.96...\n",
      "------------------------------\n",
      "    97    | -38.90...\n",
      "------------------------------\n",
      "    98    | 4.3392...\n",
      "------------------------------\n",
      "    99    | -21.57...\n",
      "------------------------------\n",
      "\n"
     ]
    }
   ],
   "source": [
    "y = Pandas.read_csv('data/y.csv')\n",
    "print(y)"
   ]
  },
  {
   "cell_type": "code",
   "execution_count": 36,
   "metadata": {},
   "outputs": [
    {
     "data": {
      "text/plain": [
       "<matplotlib.collections.PathCollection at 0x133e5c970>"
      ]
     },
     "execution_count": 36,
     "metadata": {},
     "output_type": "execute_result"
    },
    {
     "data": {
      "image/png": "[encoded data removed]",
      "text/plain": [
       "<Figure size 640x480 with 1 Axes>"
      ]
     },
     "metadata": {},
     "output_type": "display_data"
    }
   ],
   "source": [
    "plt.scatter(X.get('feature1', axis=1), y.get('output', axis=1))"
   ]
  },
  {
   "cell_type": "code",
   "execution_count": 37,
   "metadata": {},
   "outputs": [
    {
     "name": "stdout",
     "output_type": "stream",
     "text": [
      "Shape: (2, 1)\n",
      "Data: [\n",
      "[1.1651153205269744]\n",
      "[44.437169992254994]\n",
      "]\n"
     ]
    }
   ],
   "source": [
    "model = SklearnLinearRegression()\n",
    "\n",
    "\n",
    "model.fit(X.matrix,y.matrix)\n",
    "print(model.coef)"
   ]
  },
  {
   "cell_type": "code",
   "execution_count": 38,
   "metadata": {},
   "outputs": [
    {
     "data": {
      "text/plain": [
       "[<matplotlib.lines.Line2D at 0x134105b70>]"
      ]
     },
     "execution_count": 38,
     "metadata": {},
     "output_type": "execute_result"
    },
    {
     "data": {
      "image/png": "[encoded data removed]",
      "text/plain": [
       "<Figure size 640x480 with 1 Axes>"
      ]
     },
     "metadata": {},
     "output_type": "display_data"
    }
   ],
   "source": [
    "# Plot the regression line\n",
    "y_pred = DataFrame(model.predict(X.matrix), y.columns)\n",
    "\n",
    "plt.scatter(X.get('feature1', axis=1), y.get('output', axis=1))\n",
    "plt.plot(X.get('feature1', axis=1), y_pred.get('output', axis=1), color='red')"
   ]
  },
  {
   "cell_type": "code",
   "execution_count": null,
   "metadata": {},
   "outputs": [],
   "source": []
  }
 ],
 "metadata": {
  "kernelspec": {
   "display_name": ".ds_basics",
   "language": "python",
   "name": "python3"
  },
  "language_info": {
   "codemirror_mode": {
    "name": "ipython",
    "version": 3
   },
   "file_extension": ".py",
   "mimetype": "text/x-python",
   "name": "python",
   "nbconvert_exporter": "python",
   "pygments_lexer": "ipython3",
   "version": "3.10.8"
  }
 },
 "nbformat": 4,
 "nbformat_minor": 2
}
