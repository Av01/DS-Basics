{
  "cells": [
    {
      "cell_type": "markdown",
      "metadata": {
        "id": "2qQgbewoR5Mb"
      },
      "source": [
        "# Imports and utility code"
      ]
    },
    {
      "cell_type": "code",
      "execution_count": 2,
      "metadata": {
        "id": "5szuja0QDSud"
      },
      "outputs": [],
      "source": [
        "import numpy as np\n",
        "import pandas as pd\n",
        "import matplotlib.pyplot as plt\n",
        "\n",
        "np.random.seed(42)"
      ]
    },
    {
      "cell_type": "code",
      "execution_count": 3,
      "metadata": {
        "id": "zLt1cxj9CXss"
      },
      "outputs": [],
      "source": [
        "class Experiment:\n",
        "  def run():\n",
        "    pass\n",
        "\n",
        "  def run_multiple(self, n_runs):\n",
        "    df = pd.DataFrame([self.run() for _ in range(n_runs)])\n",
        "    return df\n",
        "\n",
        "  def plot(self):\n",
        "    outcomes = self.run_multiple(100000)\n",
        "    if len(outcomes.columns) != 1:\n",
        "      outcomes = outcomes.apply(lambda x: ', '.join([str(a) for a in x]), axis=1)\n",
        "    outcomes.value_counts(normalize=True).sort_index().plot(kind='bar')\n",
        "    plt.show()\n",
        "\n",
        "\n",
        "class CoinToss(Experiment):\n",
        "  def __init__(self, p_head):\n",
        "    self.p_head = p_head\n",
        "\n",
        "  def run(self):\n",
        "    return np.random.rand() < self.p_head\n",
        "\n",
        "\n",
        "class DiceRoll(Experiment):\n",
        "  def __init__(self, n_sides, probs):\n",
        "    self.n_sides = n_sides\n",
        "    self.probs = probs\n",
        "    if abs(np.sum(probs) - 1) > 1e-3:\n",
        "      raise ValueError('Probabilities must sum to 1')\n",
        "    if len(probs) != n_sides:\n",
        "      raise ValueError('Number of sides must match number of probabilities')\n",
        "\n",
        "  def run(self):\n",
        "    return np.random.choice(range(1, self.n_sides + 1), p=self.probs)\n",
        "\n",
        "\n",
        "class MultipleExperiment(Experiment):\n",
        "  def __init__(self, experiments):\n",
        "    self.experiments = experiments\n",
        "\n",
        "  def run(self):\n",
        "    results = []\n",
        "    for experiment in self.experiments:\n",
        "      results.append(experiment.run())\n",
        "    return results\n",
        "\n",
        "class SumOfCoinToss(MultipleExperiment):\n",
        "  def __init__(self, n_coins, n_heads=None):\n",
        "    self.n_coins = n_coins\n",
        "    if n_heads is None:\n",
        "      self.n_heads = [0.5] * n_coins\n",
        "    else:\n",
        "      self.n_heads = n_heads\n",
        "    self.experiments = [CoinToss(p_head) for p_head in self.n_heads]\n",
        "    super().__init__(self.experiments)\n",
        "\n",
        "  def run(self):\n",
        "    results = super().run()\n",
        "    return sum(results)\n",
        "\n",
        "\n",
        "class GameCoinToss(MultipleExperiment):\n",
        "  def __init__(self, n_coins, n_heads=None):\n",
        "    self.n_coins = n_coins\n",
        "    if n_heads is None:\n",
        "      self.n_heads = [0.5] * n_coins\n",
        "    else:\n",
        "      self.n_heads = n_heads\n",
        "    self.experiments = [CoinToss(p_head) for p_head in self.n_heads]\n",
        "    super().__init__(self.experiments)\n",
        "\n",
        "  def run(self):\n",
        "    results = super().run()\n",
        "    return 2*sum(results) - len(results)\n"
      ]
    },
    {
      "cell_type": "markdown",
      "metadata": {
        "id": "amGH6JG8_jCR"
      },
      "source": [
        "# Probability\n",
        "- Frequentist view: Probability is the frequency of occurrence of an outcome\n",
        "\n",
        "$$\n",
        "  P(A) = \\frac{\\text{Occurrence of Event A}}{\\text{Total Experiments}}\n",
        "$$\n",
        "\n",
        "- Bayesian view: Probability is the belief of occurrence of an outcome\n",
        "\n",
        "$$\n",
        "P(A) = x : 0 \\le x \\le 1\n",
        "$$\n"
      ]
    },
    {
      "cell_type": "markdown",
      "metadata": {
        "id": "Kk-vaLYSHHQe"
      },
      "source": [
        "## Example: Frequentist view"
      ]
    },
    {
      "cell_type": "code",
      "execution_count": 4,
      "metadata": {
        "colab": {
          "base_uri": "https://localhost:8080/",
          "height": 206
        },
        "id": "qm3581NL_dY1",
        "outputId": "1415505e-5429-4952-800f-9390094bc505"
      },
      "outputs": [
        {
          "data": {
            "text/html": [
              "<div>\n",
              "<style scoped>\n",
              "    .dataframe tbody tr th:only-of-type {\n",
              "        vertical-align: middle;\n",
              "    }\n",
              "\n",
              "    .dataframe tbody tr th {\n",
              "        vertical-align: top;\n",
              "    }\n",
              "\n",
              "    .dataframe thead th {\n",
              "        text-align: right;\n",
              "    }\n",
              "</style>\n",
              "<table border=\"1\" class=\"dataframe\">\n",
              "  <thead>\n",
              "    <tr style=\"text-align: right;\">\n",
              "      <th></th>\n",
              "      <th>Outcome</th>\n",
              "    </tr>\n",
              "  </thead>\n",
              "  <tbody>\n",
              "    <tr>\n",
              "      <th>0</th>\n",
              "      <td>True</td>\n",
              "    </tr>\n",
              "    <tr>\n",
              "      <th>1</th>\n",
              "      <td>False</td>\n",
              "    </tr>\n",
              "    <tr>\n",
              "      <th>2</th>\n",
              "      <td>False</td>\n",
              "    </tr>\n",
              "    <tr>\n",
              "      <th>3</th>\n",
              "      <td>False</td>\n",
              "    </tr>\n",
              "    <tr>\n",
              "      <th>4</th>\n",
              "      <td>True</td>\n",
              "    </tr>\n",
              "  </tbody>\n",
              "</table>\n",
              "</div>"
            ],
            "text/plain": [
              "   Outcome\n",
              "0     True\n",
              "1    False\n",
              "2    False\n",
              "3    False\n",
              "4     True"
            ]
          },
          "execution_count": 4,
          "metadata": {},
          "output_type": "execute_result"
        }
      ],
      "source": [
        "p_head = 0.45\n",
        "n_experiment = 10000\n",
        "\n",
        "coss_toss_experiment = CoinToss(p_head)\n",
        "df = coss_toss_experiment.run_multiple(n_experiment)\n",
        "df.columns = ['Outcome']\n",
        "df.head()"
      ]
    },
    {
      "cell_type": "code",
      "execution_count": 5,
      "metadata": {
        "colab": {
          "base_uri": "https://localhost:8080/"
        },
        "id": "gcQTSd6KD7_-",
        "outputId": "e4e51cbc-6b4c-40dd-d947-4adecaf92334"
      },
      "outputs": [
        {
          "data": {
            "text/plain": [
              "0.4582"
            ]
          },
          "execution_count": 5,
          "metadata": {},
          "output_type": "execute_result"
        }
      ],
      "source": [
        "n_heads = df[df['Outcome']].shape[0]\n",
        "\n",
        "estimated_p_head = n_heads / n_experiment\n",
        "\n",
        "estimated_p_head"
      ]
    },
    {
      "cell_type": "code",
      "execution_count": 6,
      "metadata": {
        "colab": {
          "base_uri": "https://localhost:8080/"
        },
        "id": "9djxcCpGFq38",
        "outputId": "6707093c-2c47-4dac-871e-2f6cd8a2cc32"
      },
      "outputs": [
        {
          "data": {
            "text/plain": [
              "-0.008199999999999985"
            ]
          },
          "execution_count": 6,
          "metadata": {},
          "output_type": "execute_result"
        }
      ],
      "source": [
        "p_head - estimated_p_head"
      ]
    },
    {
      "cell_type": "markdown",
      "metadata": {
        "id": "pHY13D2EFp5-"
      },
      "source": [
        "## Example: Bayesian view\n",
        "\n",
        "\n"
      ]
    },
    {
      "cell_type": "markdown",
      "metadata": {
        "id": "HjCjb6mhNKy-"
      },
      "source": [
        "### Conditional Probability\n",
        "\n",
        "When you have some belief, you can update the belief in lieu of new information, this is given by conditional probability.\n",
        "\n",
        "Conditional Probability is defined as below:\n",
        "$$\n",
        "  P(A|B) = \\frac{P(A \\cap B)}{P(B)}\n",
        "$$\n",
        "\n",
        "$P(A)$ is called Prior belief and $P(A|B)$ is called Posterior belief\n"
      ]
    },
    {
      "cell_type": "markdown",
      "metadata": {
        "id": "_eNfQobnMeH-"
      },
      "source": [
        "### Independence of Events\n",
        "\n",
        "Two events $A$ and $B$ are considered independent if\n",
        "$$\n",
        "P(A \\cap B) = P(A) P(B)\n",
        "$$"
      ]
    },
    {
      "cell_type": "markdown",
      "metadata": {
        "id": "K086bJixJpl3"
      },
      "source": [
        "### Maximum Likelihood Principle\n",
        "\n",
        "It says that, the belief of occurrence of outcome should such that it maximizes the probability of observing the data\n",
        "\n",
        "\n",
        "Let $D$ be the data from the experiment runs and $P(A) = θ$ be the probability of observing an outcome. Then MLP says that\n",
        "\n",
        "$$\n",
        "\\theta = \\arg\\max_{\\theta}{P(D)}\n",
        "$$"
      ]
    },
    {
      "cell_type": "markdown",
      "metadata": {
        "id": "2Vdf914ONo_B"
      },
      "source": [
        "In our coin toss example, let $P(H) = \\theta$ and $n$ be number of experiments. Given the data, we observed heads $k$ times i.e. $k$ be occurrence of event\n",
        "\n",
        "$$\n",
        "P(D) = P(C_1 \\cap C_2  ... \\cap C_n)\n",
        "$$\n",
        "\n",
        "Since each coin toss are independent of each other\n",
        "\n",
        "$$\n",
        "P(D) = P(C_1) P(C_2) ... P(C_n)\n",
        "$$\n",
        "\n",
        "$$\n",
        "P(D) = \\theta^k (1 - \\theta)^{n - k}\n",
        "$$\n",
        "\n",
        "According to MLP, we need to maximize $P(D)$,\n",
        "\n",
        "$$\n",
        "\\frac{d}{d\\theta}P(D) = 0\n",
        "$$\n",
        "\n",
        "$$\n",
        "\\frac{d}{d\\theta}\\theta^k (1 - \\theta)^{n - k} = 0\n",
        "$$\n",
        "\n",
        "$$\n",
        "k\\theta^{k-1} (1 - \\theta)^{n - k} - (n-k)\\theta^k (1 - \\theta)^{n - k-1} = 0\n",
        "$$\n",
        "\n",
        "$$\n",
        "k(1 - \\theta) - (n-k)\\theta = 0\n",
        "$$\n",
        "\n",
        "$$\n",
        "k - n\\theta = 0\n",
        "$$\n",
        "\n",
        "$$\n",
        "\\theta = \\frac{k}{n}\n",
        "$$\n",
        "\n",
        "Hence, we can say that,\n",
        "\n",
        "$$\n",
        "  P(A) = \\frac{\\text{Occurrence of Event A}}{\\text{Total Experiments}}\n",
        "$$\n"
      ]
    },
    {
      "cell_type": "code",
      "execution_count": 7,
      "metadata": {
        "colab": {
          "base_uri": "https://localhost:8080/"
        },
        "id": "wB8qsdyXHSRb",
        "outputId": "056eabb5-8f66-4184-9a7b-832b4cc1785a"
      },
      "outputs": [
        {
          "data": {
            "text/plain": [
              "0.4582"
            ]
          },
          "execution_count": 7,
          "metadata": {},
          "output_type": "execute_result"
        }
      ],
      "source": [
        "k = df[df['Outcome']].shape[0]\n",
        "\n",
        "theta = k / n_experiment\n",
        "\n",
        "theta"
      ]
    },
    {
      "cell_type": "markdown",
      "metadata": {
        "id": "oYG3H4cz_U4I"
      },
      "source": [
        "## Acitvity: [Kaggle Titanic Dataset](https://www.kaggle.com/competitions/titanic/data)\n",
        "\n",
        "The Titanic dataset is a classic and beginner-friendly dataset used for data science and machine learning practice. It contains information about passengers aboard the Titanic, and the goal is to predict survival based on features like age, sex, class, fare, and more.\n",
        "\n",
        "\n",
        "### Column Description\n",
        "\n",
        "| Column        | Description                                                  |\n",
        "|---------------|--------------------------------------------------------------|\n",
        "| PassengerId   | Unique ID for each passenger                                 |\n",
        "| Survived      | Survival (0 = No, 1 = Yes)                                   |\n",
        "| Pclass        | Ticket class (1 = 1st, 2 = 2nd, 3 = 3rd)                     |\n",
        "| Name          | Full name of the passenger                                   |\n",
        "| Sex           | Gender (male/female)                                         |\n",
        "| Age           | Age in years                                                 |\n",
        "| SibSp         | Number of siblings or spouses aboard                         |\n",
        "| Parch         | Number of parents or children aboard                         |\n",
        "| Ticket        | Ticket number                                                |\n",
        "| Fare          | Fare paid for the ticket                                     |\n",
        "| Cabin         | Cabin number (many missing values)                           |\n",
        "| Embarked      | Port of embarkation (C = Cherbourg, Q = Queenstown, S = Southampton) |\n",
        "\n"
      ]
    },
    {
      "cell_type": "code",
      "execution_count": 8,
      "metadata": {
        "colab": {
          "base_uri": "https://localhost:8080/",
          "height": 206
        },
        "id": "yvKQJVCb_Yeb",
        "outputId": "54fc2b72-f5bb-494e-dddd-6dfc77b04ca7"
      },
      "outputs": [
        {
          "data": {
            "text/html": [
              "<div>\n",
              "<style scoped>\n",
              "    .dataframe tbody tr th:only-of-type {\n",
              "        vertical-align: middle;\n",
              "    }\n",
              "\n",
              "    .dataframe tbody tr th {\n",
              "        vertical-align: top;\n",
              "    }\n",
              "\n",
              "    .dataframe thead th {\n",
              "        text-align: right;\n",
              "    }\n",
              "</style>\n",
              "<table border=\"1\" class=\"dataframe\">\n",
              "  <thead>\n",
              "    <tr style=\"text-align: right;\">\n",
              "      <th></th>\n",
              "      <th>PassengerId</th>\n",
              "      <th>Survived</th>\n",
              "      <th>Pclass</th>\n",
              "      <th>Name</th>\n",
              "      <th>Sex</th>\n",
              "      <th>Age</th>\n",
              "      <th>SibSp</th>\n",
              "      <th>Parch</th>\n",
              "      <th>Ticket</th>\n",
              "      <th>Fare</th>\n",
              "      <th>Cabin</th>\n",
              "      <th>Embarked</th>\n",
              "    </tr>\n",
              "  </thead>\n",
              "  <tbody>\n",
              "    <tr>\n",
              "      <th>0</th>\n",
              "      <td>1</td>\n",
              "      <td>0</td>\n",
              "      <td>3</td>\n",
              "      <td>Braund, Mr. Owen Harris</td>\n",
              "      <td>male</td>\n",
              "      <td>22.0</td>\n",
              "      <td>1</td>\n",
              "      <td>0</td>\n",
              "      <td>A/5 21171</td>\n",
              "      <td>7.2500</td>\n",
              "      <td>NaN</td>\n",
              "      <td>S</td>\n",
              "    </tr>\n",
              "    <tr>\n",
              "      <th>1</th>\n",
              "      <td>2</td>\n",
              "      <td>1</td>\n",
              "      <td>1</td>\n",
              "      <td>Cumings, Mrs. John Bradley (Florence Briggs Th...</td>\n",
              "      <td>female</td>\n",
              "      <td>38.0</td>\n",
              "      <td>1</td>\n",
              "      <td>0</td>\n",
              "      <td>PC 17599</td>\n",
              "      <td>71.2833</td>\n",
              "      <td>C85</td>\n",
              "      <td>C</td>\n",
              "    </tr>\n",
              "    <tr>\n",
              "      <th>2</th>\n",
              "      <td>3</td>\n",
              "      <td>1</td>\n",
              "      <td>3</td>\n",
              "      <td>Heikkinen, Miss. Laina</td>\n",
              "      <td>female</td>\n",
              "      <td>26.0</td>\n",
              "      <td>0</td>\n",
              "      <td>0</td>\n",
              "      <td>STON/O2. 3101282</td>\n",
              "      <td>7.9250</td>\n",
              "      <td>NaN</td>\n",
              "      <td>S</td>\n",
              "    </tr>\n",
              "    <tr>\n",
              "      <th>3</th>\n",
              "      <td>4</td>\n",
              "      <td>1</td>\n",
              "      <td>1</td>\n",
              "      <td>Futrelle, Mrs. Jacques Heath (Lily May Peel)</td>\n",
              "      <td>female</td>\n",
              "      <td>35.0</td>\n",
              "      <td>1</td>\n",
              "      <td>0</td>\n",
              "      <td>113803</td>\n",
              "      <td>53.1000</td>\n",
              "      <td>C123</td>\n",
              "      <td>S</td>\n",
              "    </tr>\n",
              "    <tr>\n",
              "      <th>4</th>\n",
              "      <td>5</td>\n",
              "      <td>0</td>\n",
              "      <td>3</td>\n",
              "      <td>Allen, Mr. William Henry</td>\n",
              "      <td>male</td>\n",
              "      <td>35.0</td>\n",
              "      <td>0</td>\n",
              "      <td>0</td>\n",
              "      <td>373450</td>\n",
              "      <td>8.0500</td>\n",
              "      <td>NaN</td>\n",
              "      <td>S</td>\n",
              "    </tr>\n",
              "  </tbody>\n",
              "</table>\n",
              "</div>"
            ],
            "text/plain": [
              "   PassengerId  Survived  Pclass  \\\n",
              "0            1         0       3   \n",
              "1            2         1       1   \n",
              "2            3         1       3   \n",
              "3            4         1       1   \n",
              "4            5         0       3   \n",
              "\n",
              "                                                Name     Sex   Age  SibSp  \\\n",
              "0                            Braund, Mr. Owen Harris    male  22.0      1   \n",
              "1  Cumings, Mrs. John Bradley (Florence Briggs Th...  female  38.0      1   \n",
              "2                             Heikkinen, Miss. Laina  female  26.0      0   \n",
              "3       Futrelle, Mrs. Jacques Heath (Lily May Peel)  female  35.0      1   \n",
              "4                           Allen, Mr. William Henry    male  35.0      0   \n",
              "\n",
              "   Parch            Ticket     Fare Cabin Embarked  \n",
              "0      0         A/5 21171   7.2500   NaN        S  \n",
              "1      0          PC 17599  71.2833   C85        C  \n",
              "2      0  STON/O2. 3101282   7.9250   NaN        S  \n",
              "3      0            113803  53.1000  C123        S  \n",
              "4      0            373450   8.0500   NaN        S  "
            ]
          },
          "execution_count": 8,
          "metadata": {},
          "output_type": "execute_result"
        }
      ],
      "source": [
        "#Load the dataset\n",
        "titanic_df = pd.read_csv('./data/titanic_data.csv')\n",
        "titanic_df.head()"
      ]
    },
    {
      "cell_type": "code",
      "execution_count": 9,
      "metadata": {
        "colab": {
          "base_uri": "https://localhost:8080/"
        },
        "id": "YUMama0c_ate",
        "outputId": "49e0f0a3-2f8b-408f-bd5b-3cb6419098b0"
      },
      "outputs": [
        {
          "data": {
            "text/plain": [
              "0.3838383838383838"
            ]
          },
          "execution_count": 9,
          "metadata": {},
          "output_type": "execute_result"
        }
      ],
      "source": [
        "#Calculate probability of survival\n",
        "p_survived = titanic_df[titanic_df['Survived'] == 1].shape[0] / titanic_df.shape[0]\n",
        "\n",
        "p_survived"
      ]
    },
    {
      "cell_type": "code",
      "execution_count": 10,
      "metadata": {
        "colab": {
          "base_uri": "https://localhost:8080/",
          "height": 178
        },
        "id": "qRUb1KN5_tVV",
        "outputId": "4f1b1a3f-9f04-40a1-e302-95be37748797"
      },
      "outputs": [
        {
          "data": {
            "text/plain": [
              "Sex\n",
              "female    0.742038\n",
              "male      0.188908\n",
              "Name: Survived, dtype: float64"
            ]
          },
          "execution_count": 10,
          "metadata": {},
          "output_type": "execute_result"
        }
      ],
      "source": [
        "#Calculate probability of survival given gender\n",
        "p_survived_given_gender = titanic_df.groupby('Sex')['Survived'].mean()\n",
        "\n",
        "p_survived_given_gender"
      ]
    },
    {
      "cell_type": "code",
      "execution_count": 11,
      "metadata": {
        "colab": {
          "base_uri": "https://localhost:8080/",
          "height": 210
        },
        "id": "kw5nkeuI_xD4",
        "outputId": "a3005d4d-2a9e-4926-e6a3-53c0ada28c2f"
      },
      "outputs": [
        {
          "data": {
            "text/plain": [
              "Pclass\n",
              "1    0.629630\n",
              "2    0.472826\n",
              "3    0.242363\n",
              "Name: Survived, dtype: float64"
            ]
          },
          "execution_count": 11,
          "metadata": {},
          "output_type": "execute_result"
        }
      ],
      "source": [
        "#Calculate probability of survival given passenger class\n",
        "p_survived_given_class = titanic_df.groupby('Pclass')['Survived'].mean()\n",
        "\n",
        "p_survived_given_class"
      ]
    },
    {
      "cell_type": "code",
      "execution_count": 12,
      "metadata": {
        "colab": {
          "base_uri": "https://localhost:8080/",
          "height": 175
        },
        "id": "d7ey72nFAr-d",
        "outputId": "b939a860-a760-45cc-a25a-ba0d9482a94e"
      },
      "outputs": [
        {
          "data": {
            "text/html": [
              "<div>\n",
              "<style scoped>\n",
              "    .dataframe tbody tr th:only-of-type {\n",
              "        vertical-align: middle;\n",
              "    }\n",
              "\n",
              "    .dataframe tbody tr th {\n",
              "        vertical-align: top;\n",
              "    }\n",
              "\n",
              "    .dataframe thead th {\n",
              "        text-align: right;\n",
              "    }\n",
              "</style>\n",
              "<table border=\"1\" class=\"dataframe\">\n",
              "  <thead>\n",
              "    <tr style=\"text-align: right;\">\n",
              "      <th>Sex</th>\n",
              "      <th>female</th>\n",
              "      <th>male</th>\n",
              "    </tr>\n",
              "    <tr>\n",
              "      <th>Pclass</th>\n",
              "      <th></th>\n",
              "      <th></th>\n",
              "    </tr>\n",
              "  </thead>\n",
              "  <tbody>\n",
              "    <tr>\n",
              "      <th>1</th>\n",
              "      <td>0.968085</td>\n",
              "      <td>0.368852</td>\n",
              "    </tr>\n",
              "    <tr>\n",
              "      <th>2</th>\n",
              "      <td>0.921053</td>\n",
              "      <td>0.157407</td>\n",
              "    </tr>\n",
              "    <tr>\n",
              "      <th>3</th>\n",
              "      <td>0.500000</td>\n",
              "      <td>0.135447</td>\n",
              "    </tr>\n",
              "  </tbody>\n",
              "</table>\n",
              "</div>"
            ],
            "text/plain": [
              "Sex       female      male\n",
              "Pclass                    \n",
              "1       0.968085  0.368852\n",
              "2       0.921053  0.157407\n",
              "3       0.500000  0.135447"
            ]
          },
          "execution_count": 12,
          "metadata": {},
          "output_type": "execute_result"
        }
      ],
      "source": [
        "#Calculate probability of survival given class and gender\n",
        "p_survived_given_class_gender = titanic_df.groupby(['Pclass', 'Sex'])['Survived'].mean().unstack()\n",
        "\n",
        "p_survived_given_class_gender"
      ]
    },
    {
      "cell_type": "markdown",
      "metadata": {
        "id": "iGk4MVz0vlXV"
      },
      "source": [
        "# Distributions\n",
        "\n",
        "For coin toss or those survived, we only have 2 outcomes. Hence, knowing probability of one of the outcome is enough.\n",
        "\n",
        "Generally, if number of outcomes are $n$, we need to know $n-1$ probabilities, and if the number of outcomes are continous (e.g. predicting age of random person on titanic), it becomes impossible to list down all probabilities.\n",
        "\n",
        "Hence, we introduce a concept called Probability Distribution."
      ]
    },
    {
      "cell_type": "code",
      "execution_count": 13,
      "metadata": {
        "colab": {
          "base_uri": "https://localhost:8080/",
          "height": 486
        },
        "id": "trWQY4DgEAzR",
        "outputId": "1bdf26ea-970c-40fb-876d-f8088e3572af"
      },
      "outputs": [
        {
          "data": {
            "image/png": "[encoded data removed]",
            "text/plain": [
              "<Figure size 640x480 with 1 Axes>"
            ]
          },
          "metadata": {},
          "output_type": "display_data"
        }
      ],
      "source": [
        "coss_toss_experiment = CoinToss(0.25)\n",
        "coss_toss_experiment.plot()"
      ]
    },
    {
      "cell_type": "code",
      "execution_count": 14,
      "metadata": {
        "colab": {
          "base_uri": "https://localhost:8080/",
          "height": 460
        },
        "id": "n0XHouK7CUYl",
        "outputId": "a3da6184-296b-4323-fa88-823ac02ba6f6"
      },
      "outputs": [
        {
          "data": {
            "image/png": "[encoded data removed]",
            "text/plain": [
              "<Figure size 640x480 with 1 Axes>"
            ]
          },
          "metadata": {},
          "output_type": "display_data"
        }
      ],
      "source": [
        "dice_experiment = DiceRoll(6, [1/6, 1/6, 1/6, 1/6, 1/6, 1/6])\n",
        "dice_experiment.plot()"
      ]
    },
    {
      "cell_type": "code",
      "execution_count": 15,
      "metadata": {
        "colab": {
          "base_uri": "https://localhost:8080/",
          "height": 468
        },
        "id": "ljYaEMqUEMtN",
        "outputId": "fe80e6fd-5f34-420f-8eb3-e673eb4b5e87"
      },
      "outputs": [
        {
          "data": {
            "image/png": "[encoded data removed]",
            "text/plain": [
              "<Figure size 640x480 with 1 Axes>"
            ]
          },
          "metadata": {},
          "output_type": "display_data"
        }
      ],
      "source": [
        "n_coin_toss = 10\n",
        "sum_of_coin_toss = SumOfCoinToss(n_coin_toss)\n",
        "sum_of_coin_toss.plot()"
      ]
    },
    {
      "cell_type": "markdown",
      "metadata": {
        "id": "3HGek-s3Lij4"
      },
      "source": [
        "## Mathematical representation of distributions\n",
        "\n",
        "Distribution are functions defined on sample space (precisely, random variables), such that it provides the probability of outcome $x$.\n",
        "\n",
        "It is called Probability density function(pdf) for continous $x$, and Probability Mass Function(pmf) for discrete $x$. We will represent it by $f_X$\n",
        "\n",
        "- Uniform distribution\n",
        "\n",
        "$$\n",
        "  \\text{Given } k > 0,\n",
        "$$\n",
        "\n",
        "$$\n",
        "f_X(x) = k\n",
        "$$\n",
        "\n",
        "- Normal distribution\n",
        "\n",
        "$$\n",
        "  \\text{Given mean } \\mu, \\text{ std } \\sigma,  \n",
        "$$\n",
        "\n",
        "$$\n",
        "f_X(x) = \\frac{1}{\\sigma\\sqrt{2\\pi}}\\exp^{\\frac{-1}{2}(\\frac{x-\\mu}{\\sigma})^2}\n",
        "$$\n",
        "\n",
        " - Interesting property of normal distribution is 95% of it values lie in 2 standard deviation span from mean i.e.\n",
        "$$ (\\mu - 2\\sigma, \\mu + 2\\sigma) $$\n"
      ]
    },
    {
      "cell_type": "code",
      "execution_count": 16,
      "metadata": {
        "colab": {
          "base_uri": "https://localhost:8080/",
          "height": 468
        },
        "id": "T6svJApzPW7W",
        "outputId": "6eab5700-1455-4b7d-c79d-b00f9cc8b087"
      },
      "outputs": [
        {
          "data": {
            "image/png": "[encoded data removed]",
            "text/plain": [
              "<Figure size 640x480 with 1 Axes>"
            ]
          },
          "metadata": {},
          "output_type": "display_data"
        }
      ],
      "source": [
        "n_coin_toss = 20\n",
        "probs = [np.random.rand() for _ in range(n_coin_toss)]\n",
        "sum_of_coin_toss = SumOfCoinToss(n_coin_toss, probs)\n",
        "sum_of_coin_toss.plot()"
      ]
    },
    {
      "cell_type": "markdown",
      "metadata": {
        "id": "qJK-IOZ5SULr"
      },
      "source": [
        "## Acivitiy: Titanic Dataset - Distribution of Age and Fare of passengers"
      ]
    },
    {
      "cell_type": "code",
      "execution_count": 17,
      "metadata": {
        "colab": {
          "base_uri": "https://localhost:8080/",
          "height": 447
        },
        "id": "emJIBpTHLQZ3",
        "outputId": "a3847d6c-7e5f-488a-9f21-299571c783c4"
      },
      "outputs": [
        {
          "data": {
            "text/plain": [
              "<Axes: >"
            ]
          },
          "execution_count": 17,
          "metadata": {},
          "output_type": "execute_result"
        },
        {
          "data": {
            "image/png": "[encoded data removed]",
            "text/plain": [
              "<Figure size 640x480 with 1 Axes>"
            ]
          },
          "metadata": {},
          "output_type": "display_data"
        }
      ],
      "source": [
        "titanic_df['Age'].hist(bins=20)"
      ]
    },
    {
      "cell_type": "code",
      "execution_count": 18,
      "metadata": {
        "colab": {
          "base_uri": "https://localhost:8080/",
          "height": 335
        },
        "id": "gwffLuZgLY06",
        "outputId": "342f5cb7-f75d-4d02-accb-c3440e75c0dc"
      },
      "outputs": [
        {
          "data": {
            "text/plain": [
              "count    714.000000\n",
              "mean      29.699118\n",
              "std       14.526497\n",
              "min        0.420000\n",
              "25%       20.125000\n",
              "50%       28.000000\n",
              "75%       38.000000\n",
              "max       80.000000\n",
              "Name: Age, dtype: float64"
            ]
          },
          "execution_count": 18,
          "metadata": {},
          "output_type": "execute_result"
        }
      ],
      "source": [
        "titanic_df['Age'].describe()"
      ]
    },
    {
      "cell_type": "code",
      "execution_count": 19,
      "metadata": {
        "colab": {
          "base_uri": "https://localhost:8080/",
          "height": 447
        },
        "id": "0pBJtVdSTYbz",
        "outputId": "e9192dfc-52d1-44f3-e45c-b3088beef0c2"
      },
      "outputs": [
        {
          "data": {
            "text/plain": [
              "<Axes: >"
            ]
          },
          "execution_count": 19,
          "metadata": {},
          "output_type": "execute_result"
        },
        {
          "data": {
            "image/png": "[encoded data removed]",
            "text/plain": [
              "<Figure size 640x480 with 1 Axes>"
            ]
          },
          "metadata": {},
          "output_type": "display_data"
        }
      ],
      "source": [
        "titanic_df['Age'].plot(kind='box')"
      ]
    },
    {
      "cell_type": "code",
      "execution_count": 20,
      "metadata": {
        "colab": {
          "base_uri": "https://localhost:8080/",
          "height": 447
        },
        "id": "kokJ0-LqJeV4",
        "outputId": "727c03b7-8ec0-42cf-bf27-23d5a6cadddc"
      },
      "outputs": [
        {
          "data": {
            "text/plain": [
              "<Axes: >"
            ]
          },
          "execution_count": 20,
          "metadata": {},
          "output_type": "execute_result"
        },
        {
          "data": {
            "image/png": "[encoded data removed]",
            "text/plain": [
              "<Figure size 640x480 with 1 Axes>"
            ]
          },
          "metadata": {},
          "output_type": "display_data"
        }
      ],
      "source": [
        "titanic_df['Fare'].hist(bins=20)"
      ]
    },
    {
      "cell_type": "code",
      "execution_count": 21,
      "metadata": {
        "colab": {
          "base_uri": "https://localhost:8080/",
          "height": 447
        },
        "id": "wgVZ0p_tF8ax",
        "outputId": "d0cf2186-ed83-44f0-af86-48a19a9e1ce7"
      },
      "outputs": [
        {
          "data": {
            "text/plain": [
              "<Axes: >"
            ]
          },
          "execution_count": 21,
          "metadata": {},
          "output_type": "execute_result"
        },
        {
          "data": {
            "image/png": "[encoded data removed]",
            "text/plain": [
              "<Figure size 640x480 with 1 Axes>"
            ]
          },
          "metadata": {},
          "output_type": "display_data"
        }
      ],
      "source": [
        "#Plot age distribution of those who survived\n",
        "titanic_df[titanic_df['Survived'] == 1]['Fare'].hist(bins=20)"
      ]
    },
    {
      "cell_type": "code",
      "execution_count": 22,
      "metadata": {
        "colab": {
          "base_uri": "https://localhost:8080/",
          "height": 447
        },
        "id": "n1H53dJSGD7w",
        "outputId": "a707da56-8e4e-41d9-a60d-b705564afcd2"
      },
      "outputs": [
        {
          "data": {
            "text/plain": [
              "<Axes: >"
            ]
          },
          "execution_count": 22,
          "metadata": {},
          "output_type": "execute_result"
        },
        {
          "data": {
            "image/png": "[encoded data removed]",
            "text/plain": [
              "<Figure size 640x480 with 1 Axes>"
            ]
          },
          "metadata": {},
          "output_type": "display_data"
        }
      ],
      "source": [
        "#Plot age distribution of those who did not survive\n",
        "titanic_df[titanic_df['Survived'] == 0]['Fare'].hist(bins=20)"
      ]
    },
    {
      "cell_type": "markdown",
      "metadata": {
        "id": "OyFFL3hvOskw"
      },
      "source": [
        "# Confidence Intervals\n",
        "\n",
        "### Population vs. Sample\n",
        "Population: Entire universe of objects we are interested in\n",
        "\n",
        "Sample: A subset of objects obtained randomly from the population\n",
        "\n",
        "Examples:\n",
        "- Average household income of Texas\n",
        "  - Population: All residents of Texas\n",
        "  - Sample: Randomly selected 1000 residents of Texas\n",
        "\n",
        "- Effect of a new vaccine\n",
        "  - Population: All human beings\n",
        "  - Sample: 100 volunteers for the study\n",
        "\n",
        "\n",
        "\n",
        "### True effect vs. Estimation\n",
        "For a property of interest, if the property is calculated on entire population, it is called True property i.e. $p$ whereas if it is calculated for the sample, it is called Estimated or Empirical property i.e. $\\hat{p}$ or $p_{estimated}$\n",
        "\n",
        "Generally, we do not have liberty to access the population, hence we rely on the sample to estimated property extrapolate it to the population."
      ]
    },
    {
      "cell_type": "markdown",
      "metadata": {
        "id": "glSDCk_T7_Ae"
      },
      "source": [
        "## Example: Coin Toss Game\n",
        "\n",
        "Game rules:\n",
        "- The host will toss 100 coins\n",
        "- For every head, you get \\$1 else you will lose \\$1\n",
        "- You have not idea whether coins are baised or unbaised"
      ]
    },
    {
      "cell_type": "markdown",
      "metadata": {
        "id": "_jg0Vgn7HCQe"
      },
      "source": [
        "#### What Host knows"
      ]
    },
    {
      "cell_type": "code",
      "execution_count": 23,
      "metadata": {
        "colab": {
          "base_uri": "https://localhost:8080/",
          "height": 473
        },
        "id": "Wz6dKYDJSp38",
        "outputId": "8ba52aba-bdb4-4171-ccbb-e6978cceb998"
      },
      "outputs": [
        {
          "data": {
            "image/png": "[encoded data removed]",
            "text/plain": [
              "<Figure size 640x480 with 1 Axes>"
            ]
          },
          "metadata": {},
          "output_type": "display_data"
        }
      ],
      "source": [
        "n_coin_toss = 100\n",
        "probs = [0.40] * 90 + [0.8] * 10\n",
        "game = GameCoinToss(n_coin_toss, probs)\n",
        "game.plot()"
      ]
    },
    {
      "cell_type": "code",
      "execution_count": 24,
      "metadata": {
        "colab": {
          "base_uri": "https://localhost:8080/"
        },
        "id": "oaGR39T7TwR0",
        "outputId": "55448ac1-1236-4daa-bdb7-3e5a5fb7df53"
      },
      "outputs": [
        {
          "data": {
            "text/plain": [
              "np.float64(-11.933)"
            ]
          },
          "execution_count": 24,
          "metadata": {},
          "output_type": "execute_result"
        }
      ],
      "source": [
        "outcomes = game.run_multiple(10000)\n",
        "true_mean = np.mean(outcomes)\n",
        "true_mean"
      ]
    },
    {
      "cell_type": "markdown",
      "metadata": {
        "id": "Htiw7ndOHJim"
      },
      "source": [
        "#### What you know"
      ]
    },
    {
      "cell_type": "code",
      "execution_count": 25,
      "metadata": {
        "colab": {
          "base_uri": "https://localhost:8080/"
        },
        "id": "PWK7n7KoT7Im",
        "outputId": "6e875eab-e2c7-4908-b083-93d69711416b"
      },
      "outputs": [
        {
          "data": {
            "text/plain": [
              "np.float64(-12.4)"
            ]
          },
          "execution_count": 25,
          "metadata": {},
          "output_type": "execute_result"
        }
      ],
      "source": [
        "n_samples = 10\n",
        "sample = game.run_multiple(n_samples)\n",
        "estimated_mean = np.mean(sample)\n",
        "estimated_mean"
      ]
    },
    {
      "cell_type": "markdown",
      "metadata": {
        "id": "icJqn9zMZ11Y"
      },
      "source": [
        "## Thought experiment\n",
        "\n",
        "Let's say you can watch the $n$ game of other players for 1000 days, you can visualize the distribution for the mean payout of $n$ games of each day"
      ]
    },
    {
      "cell_type": "code",
      "execution_count": 26,
      "metadata": {
        "colab": {
          "base_uri": "https://localhost:8080/",
          "height": 430
        },
        "id": "QSfEyi42YHQ_",
        "outputId": "e809ee36-eb4c-444f-eddb-61349f36dccc"
      },
      "outputs": [
        {
          "data": {
            "image/png": "[encoded data removed]",
            "text/plain": [
              "<Figure size 640x480 with 1 Axes>"
            ]
          },
          "metadata": {},
          "output_type": "display_data"
        }
      ],
      "source": [
        "estimated_means = []\n",
        "for _ in range(1000):\n",
        "  sample = game.run_multiple(2).values\n",
        "  estimated_means.append(np.mean(sample))\n",
        "\n",
        "plt.hist(estimated_means, bins=range(int(true_mean) - 20,int(true_mean) + 20, 1))\n",
        "plt.axvline(true_mean, color='r')\n",
        "plt.show()"
      ]
    },
    {
      "cell_type": "code",
      "execution_count": 27,
      "metadata": {
        "colab": {
          "base_uri": "https://localhost:8080/",
          "height": 430
        },
        "id": "QBzlEdPzU6Za",
        "outputId": "b8f2b756-1207-4390-be93-b3585050ca45"
      },
      "outputs": [
        {
          "data": {
            "image/png": "[encoded data removed]",
            "text/plain": [
              "<Figure size 640x480 with 1 Axes>"
            ]
          },
          "metadata": {},
          "output_type": "display_data"
        }
      ],
      "source": [
        "estimated_means = []\n",
        "for _ in range(1000):\n",
        "  sample = game.run_multiple(5).values\n",
        "  estimated_means.append(np.mean(sample))\n",
        "\n",
        "plt.hist(estimated_means, bins=range(int(true_mean) - 20,int(true_mean) + 20, 1))\n",
        "plt.axvline(true_mean, color='r')\n",
        "plt.show()"
      ]
    },
    {
      "cell_type": "code",
      "execution_count": 28,
      "metadata": {
        "colab": {
          "base_uri": "https://localhost:8080/",
          "height": 430
        },
        "id": "W4BKMHqJWVL2",
        "outputId": "30d89748-a21d-490f-99d8-5a02ddaa2559"
      },
      "outputs": [
        {
          "data": {
            "image/png": "[encoded data removed]",
            "text/plain": [
              "<Figure size 640x480 with 1 Axes>"
            ]
          },
          "metadata": {},
          "output_type": "display_data"
        }
      ],
      "source": [
        "estimated_means = []\n",
        "for _ in range(1000):\n",
        "  sample = game.run_multiple(20)\n",
        "  estimated_means.append(np.mean(sample))\n",
        "\n",
        "plt.hist(estimated_means, bins=range(int(true_mean) - 20,int(true_mean) + 20, 1))\n",
        "plt.axvline(true_mean, color='r')\n",
        "plt.show()"
      ]
    },
    {
      "cell_type": "markdown",
      "metadata": {
        "id": "RS3qW3RIvnOn"
      },
      "source": [
        "**NOTE:** This observation that distribution of estimated means follows a normal distribution is called **Centeral Limit Theorem**\n",
        "\n",
        "One of the direct consequence of **Central Limit Theorem** is **Law of Large Numbers** i.e. As the sample size $n$ increases, estimated mean $\\mu_{estimated}$ tends to same as true mean $\\mu$"
      ]
    },
    {
      "cell_type": "markdown",
      "metadata": {
        "id": "7Dy_IhItAxXg"
      },
      "source": [
        "#### Deriving relationship between $\\sigma_{sampling\\_dist}$ and $\\sigma_{estimated}$"
      ]
    },
    {
      "cell_type": "code",
      "execution_count": 29,
      "metadata": {
        "colab": {
          "base_uri": "https://localhost:8080/",
          "height": 700
        },
        "id": "0oK_gOeZegZN",
        "outputId": "af0fbaef-c882-4215-f343-c0e5642f2941"
      },
      "outputs": [
        {
          "name": "stderr",
          "output_type": "stream",
          "text": [
            "/Users/avsmac/Desktop/DS Basics/.ds_basics/lib/python3.10/site-packages/numpy/_core/fromnumeric.py:4062: FutureWarning: The behavior of DataFrame.std with axis=None is deprecated, in a future version this will reduce over both axes and return a scalar. To retain the old behavior, pass axis=0 (or do not pass axis)\n",
            "  return std(axis=axis, dtype=dtype, out=out, ddof=ddof, **kwargs)\n"
          ]
        },
        {
          "data": {
            "text/html": [
              "<div>\n",
              "<style scoped>\n",
              "    .dataframe tbody tr th:only-of-type {\n",
              "        vertical-align: middle;\n",
              "    }\n",
              "\n",
              "    .dataframe tbody tr th {\n",
              "        vertical-align: top;\n",
              "    }\n",
              "\n",
              "    .dataframe thead th {\n",
              "        text-align: right;\n",
              "    }\n",
              "</style>\n",
              "<table border=\"1\" class=\"dataframe\">\n",
              "  <thead>\n",
              "    <tr style=\"text-align: right;\">\n",
              "      <th></th>\n",
              "      <th>n</th>\n",
              "      <th>mean</th>\n",
              "      <th>std</th>\n",
              "      <th>ratio</th>\n",
              "    </tr>\n",
              "  </thead>\n",
              "  <tbody>\n",
              "    <tr>\n",
              "      <th>0</th>\n",
              "      <td>5</td>\n",
              "      <td>-12.241600</td>\n",
              "      <td>3.019611</td>\n",
              "      <td>2.686229</td>\n",
              "    </tr>\n",
              "    <tr>\n",
              "      <th>1</th>\n",
              "      <td>10</td>\n",
              "      <td>-11.998600</td>\n",
              "      <td>2.135267</td>\n",
              "      <td>4.150330</td>\n",
              "    </tr>\n",
              "    <tr>\n",
              "      <th>2</th>\n",
              "      <td>15</td>\n",
              "      <td>-12.105067</td>\n",
              "      <td>1.706888</td>\n",
              "      <td>5.348196</td>\n",
              "    </tr>\n",
              "    <tr>\n",
              "      <th>3</th>\n",
              "      <td>20</td>\n",
              "      <td>-11.972100</td>\n",
              "      <td>1.559220</td>\n",
              "      <td>5.983397</td>\n",
              "    </tr>\n",
              "    <tr>\n",
              "      <th>4</th>\n",
              "      <td>25</td>\n",
              "      <td>-12.090080</td>\n",
              "      <td>1.361276</td>\n",
              "      <td>6.924603</td>\n",
              "    </tr>\n",
              "    <tr>\n",
              "      <th>5</th>\n",
              "      <td>30</td>\n",
              "      <td>-11.956333</td>\n",
              "      <td>1.262278</td>\n",
              "      <td>7.422440</td>\n",
              "    </tr>\n",
              "    <tr>\n",
              "      <th>6</th>\n",
              "      <td>35</td>\n",
              "      <td>-11.896914</td>\n",
              "      <td>1.126492</td>\n",
              "      <td>8.301663</td>\n",
              "    </tr>\n",
              "    <tr>\n",
              "      <th>7</th>\n",
              "      <td>40</td>\n",
              "      <td>-12.014900</td>\n",
              "      <td>1.077546</td>\n",
              "      <td>8.759814</td>\n",
              "    </tr>\n",
              "    <tr>\n",
              "      <th>8</th>\n",
              "      <td>45</td>\n",
              "      <td>-12.050267</td>\n",
              "      <td>1.007783</td>\n",
              "      <td>9.395975</td>\n",
              "    </tr>\n",
              "    <tr>\n",
              "      <th>9</th>\n",
              "      <td>50</td>\n",
              "      <td>-11.924800</td>\n",
              "      <td>0.978769</td>\n",
              "      <td>9.679591</td>\n",
              "    </tr>\n",
              "    <tr>\n",
              "      <th>10</th>\n",
              "      <td>55</td>\n",
              "      <td>-12.010655</td>\n",
              "      <td>0.923998</td>\n",
              "      <td>10.282364</td>\n",
              "    </tr>\n",
              "    <tr>\n",
              "      <th>11</th>\n",
              "      <td>60</td>\n",
              "      <td>-11.953200</td>\n",
              "      <td>0.861859</td>\n",
              "      <td>11.032077</td>\n",
              "    </tr>\n",
              "    <tr>\n",
              "      <th>12</th>\n",
              "      <td>65</td>\n",
              "      <td>-11.995477</td>\n",
              "      <td>0.806443</td>\n",
              "      <td>11.752305</td>\n",
              "    </tr>\n",
              "    <tr>\n",
              "      <th>13</th>\n",
              "      <td>70</td>\n",
              "      <td>-11.971514</td>\n",
              "      <td>0.805929</td>\n",
              "      <td>11.806880</td>\n",
              "    </tr>\n",
              "    <tr>\n",
              "      <th>14</th>\n",
              "      <td>75</td>\n",
              "      <td>-12.006933</td>\n",
              "      <td>0.777039</td>\n",
              "      <td>12.221393</td>\n",
              "    </tr>\n",
              "    <tr>\n",
              "      <th>15</th>\n",
              "      <td>80</td>\n",
              "      <td>-11.970175</td>\n",
              "      <td>0.767382</td>\n",
              "      <td>12.414961</td>\n",
              "    </tr>\n",
              "    <tr>\n",
              "      <th>16</th>\n",
              "      <td>85</td>\n",
              "      <td>-12.033906</td>\n",
              "      <td>0.755218</td>\n",
              "      <td>12.640145</td>\n",
              "    </tr>\n",
              "    <tr>\n",
              "      <th>17</th>\n",
              "      <td>90</td>\n",
              "      <td>-12.038467</td>\n",
              "      <td>0.734632</td>\n",
              "      <td>13.003602</td>\n",
              "    </tr>\n",
              "    <tr>\n",
              "      <th>18</th>\n",
              "      <td>95</td>\n",
              "      <td>-11.974674</td>\n",
              "      <td>0.685012</td>\n",
              "      <td>13.921011</td>\n",
              "    </tr>\n",
              "  </tbody>\n",
              "</table>\n",
              "</div>"
            ],
            "text/plain": [
              "     n       mean       std      ratio\n",
              "0    5 -12.241600  3.019611   2.686229\n",
              "1   10 -11.998600  2.135267   4.150330\n",
              "2   15 -12.105067  1.706888   5.348196\n",
              "3   20 -11.972100  1.559220   5.983397\n",
              "4   25 -12.090080  1.361276   6.924603\n",
              "5   30 -11.956333  1.262278   7.422440\n",
              "6   35 -11.896914  1.126492   8.301663\n",
              "7   40 -12.014900  1.077546   8.759814\n",
              "8   45 -12.050267  1.007783   9.395975\n",
              "9   50 -11.924800  0.978769   9.679591\n",
              "10  55 -12.010655  0.923998  10.282364\n",
              "11  60 -11.953200  0.861859  11.032077\n",
              "12  65 -11.995477  0.806443  11.752305\n",
              "13  70 -11.971514  0.805929  11.806880\n",
              "14  75 -12.006933  0.777039  12.221393\n",
              "15  80 -11.970175  0.767382  12.414961\n",
              "16  85 -12.033906  0.755218  12.640145\n",
              "17  90 -12.038467  0.734632  13.003602\n",
              "18  95 -11.974674  0.685012  13.921011"
            ]
          },
          "execution_count": 29,
          "metadata": {},
          "output_type": "execute_result"
        }
      ],
      "source": [
        "sample_info = []\n",
        "for i in range(5,100,5):\n",
        "  estimated_means = []\n",
        "  estimated_stds = []\n",
        "  for _ in range(1000):\n",
        "    sample = game.run_multiple(i)\n",
        "    estimated_means.append(np.mean(sample))\n",
        "    estimated_stds.append(np.std(sample))\n",
        "\n",
        "  sample_dist_mean = np.mean(estimated_means)\n",
        "  sample_dist_std = np.std(estimated_stds)\n",
        "  sample_info.append((i, sample_dist_mean, sample_dist_std, np.mean([std / sample_dist_std for std in estimated_stds])))\n",
        "\n",
        "sample_info = pd.DataFrame(sample_info, columns=['n', 'mean', 'std', 'ratio'])\n",
        "sample_info\n"
      ]
    },
    {
      "cell_type": "code",
      "execution_count": 30,
      "metadata": {
        "colab": {
          "base_uri": "https://localhost:8080/",
          "height": 430
        },
        "id": "o2LUQTsBhFNN",
        "outputId": "ee8360ea-b793-4a30-ad53-fd552ed8ed32"
      },
      "outputs": [
        {
          "data": {
            "image/png": "[encoded data removed]",
            "text/plain": [
              "<Figure size 640x480 with 1 Axes>"
            ]
          },
          "metadata": {},
          "output_type": "display_data"
        }
      ],
      "source": [
        "plt.plot(sample_info['n'], sample_info['ratio'])\n",
        "plt.plot(sample_info['n'], sample_info['n'] ** 0.5, color='r')\n",
        "plt.show()"
      ]
    },
    {
      "cell_type": "markdown",
      "metadata": {
        "id": "GEesTWKVivd9"
      },
      "source": [
        "From the graph, we can say that\n",
        "\n",
        "$$ \\sqrt{n} < \\frac{\\sigma_{estimated}}{\\sigma_{sampling\\_dist}}$$\n",
        "\n",
        "$$ \\sigma_{sampling\\_dist} < \\frac{\\sigma_{estimated}}{\\sqrt{n}}$$\n",
        "\n",
        "\n",
        "$\\sigma_{sampling\\_dist}$ is called standard error, which is the measure of the distance between in $\\mu_{estimated}$ and $\\mu$\n",
        "\n",
        "In practice, we replace < with ="
      ]
    },
    {
      "cell_type": "markdown",
      "metadata": {
        "id": "L1RbOKlHZ7he"
      },
      "source": [
        "## Back to reality\n",
        "\n",
        "You somehow manage to get payout for 10 games in a single day"
      ]
    },
    {
      "cell_type": "code",
      "execution_count": 31,
      "metadata": {
        "colab": {
          "base_uri": "https://localhost:8080/"
        },
        "id": "ihr7hA1uZGJs",
        "outputId": "642a5a39-547e-4db9-bba7-135cc7b511eb"
      },
      "outputs": [
        {
          "data": {
            "text/plain": [
              "np.float64(-14.4)"
            ]
          },
          "execution_count": 31,
          "metadata": {},
          "output_type": "execute_result"
        }
      ],
      "source": [
        "sample = game.run_multiple(n_samples).values\n",
        "estimated_mean = np.mean(sample)\n",
        "estimated_mean"
      ]
    },
    {
      "cell_type": "code",
      "execution_count": 32,
      "metadata": {
        "colab": {
          "base_uri": "https://localhost:8080/"
        },
        "id": "BA_QNtpVaMxU",
        "outputId": "835da003-4e82-49d2-fbf2-1cfcea3b187b"
      },
      "outputs": [
        {
          "data": {
            "text/plain": [
              "(np.float64(-19.578416746458323), np.float64(-9.221583253541677))"
            ]
          },
          "execution_count": 32,
          "metadata": {},
          "output_type": "execute_result"
        }
      ],
      "source": [
        "estimated_std = np.std(sample)\n",
        "\n",
        "sampling_dist_std = estimated_std / np.sqrt(n_samples)\n",
        "\n",
        "\n",
        "(estimated_mean - 2 * sampling_dist_std, estimated_mean + 2 * sampling_dist_std)"
      ]
    },
    {
      "cell_type": "code",
      "execution_count": 33,
      "metadata": {
        "colab": {
          "base_uri": "https://localhost:8080/"
        },
        "id": "G_6AKb0TkkEo",
        "outputId": "c6c0a174-59d7-4334-d264-53b805decee9"
      },
      "outputs": [
        {
          "data": {
            "text/plain": [
              "np.float64(0.916)"
            ]
          },
          "execution_count": 33,
          "metadata": {},
          "output_type": "execute_result"
        }
      ],
      "source": [
        "tests = []\n",
        "for _ in range(1000):\n",
        "  sample = game.run_multiple(n_samples).values\n",
        "  estimated_mean = np.mean(sample)\n",
        "  estimated_std = np.std(sample)\n",
        "  sampling_dist_std = estimated_std / np.sqrt(n_samples)\n",
        "\n",
        "  min_val = estimated_mean - 2 * sampling_dist_std\n",
        "  max_val = estimated_mean + 2 * sampling_dist_std\n",
        "\n",
        "  if true_mean >= min_val and true_mean <= max_val:\n",
        "      tests.append(1)\n",
        "  else:\n",
        "      tests.append(0)\n",
        "\n",
        "np.mean(tests)"
      ]
    },
    {
      "cell_type": "markdown",
      "metadata": {
        "id": "9ccgo5NynSvJ"
      },
      "source": [
        "### Confidence Interval:\n",
        "- Given a sample, we can estimate its mean and std i.e. $ \\mu_{estimated}, \\sigma_{estimated}$\n",
        "\n",
        "- Find std of the sampling distribution $\\sigma_{sampling\\_dist}$\n",
        "\n",
        "- The true mean $\\mu$ lies in below range with 95% probability (or P-value = 0.05 i.e. 100 - 95%),\n",
        "$$ (\\mu_{estimated} - 2*\\sigma_{sampling\\_dist}, \\mu_{estimated} + 2*\\sigma_{sampling\\_dist})$$\n",
        "\n",
        "\n",
        "\n",
        "Note: Think of P-value as probability of being wrong"
      ]
    },
    {
      "cell_type": "markdown",
      "metadata": {
        "id": "ml76jC1AooPs"
      },
      "source": [
        "## Activity: Titanic Dataset\n",
        "\n",
        "We are interested in finding average of all the passenger on the Titanic. However, due to data loss, we have only age information for 100 passengers on the Titantic.\n",
        "\n",
        "Use confidence intervals to report true mean with P-value 0.05\n"
      ]
    },
    {
      "cell_type": "code",
      "execution_count": 34,
      "metadata": {
        "colab": {
          "base_uri": "https://localhost:8080/",
          "height": 206
        },
        "id": "XWBHQueUnSUg",
        "outputId": "f6414fb4-a48c-4a37-e007-18c2f432348d"
      },
      "outputs": [
        {
          "data": {
            "text/html": [
              "<div>\n",
              "<style scoped>\n",
              "    .dataframe tbody tr th:only-of-type {\n",
              "        vertical-align: middle;\n",
              "    }\n",
              "\n",
              "    .dataframe tbody tr th {\n",
              "        vertical-align: top;\n",
              "    }\n",
              "\n",
              "    .dataframe thead th {\n",
              "        text-align: right;\n",
              "    }\n",
              "</style>\n",
              "<table border=\"1\" class=\"dataframe\">\n",
              "  <thead>\n",
              "    <tr style=\"text-align: right;\">\n",
              "      <th></th>\n",
              "      <th>PassengerId</th>\n",
              "      <th>Survived</th>\n",
              "      <th>Pclass</th>\n",
              "      <th>Name</th>\n",
              "      <th>Sex</th>\n",
              "      <th>Age</th>\n",
              "      <th>SibSp</th>\n",
              "      <th>Parch</th>\n",
              "      <th>Ticket</th>\n",
              "      <th>Fare</th>\n",
              "      <th>Cabin</th>\n",
              "      <th>Embarked</th>\n",
              "    </tr>\n",
              "  </thead>\n",
              "  <tbody>\n",
              "    <tr>\n",
              "      <th>496</th>\n",
              "      <td>497</td>\n",
              "      <td>1</td>\n",
              "      <td>1</td>\n",
              "      <td>Eustis, Miss. Elizabeth Mussey</td>\n",
              "      <td>female</td>\n",
              "      <td>54.00</td>\n",
              "      <td>1</td>\n",
              "      <td>0</td>\n",
              "      <td>36947</td>\n",
              "      <td>78.2667</td>\n",
              "      <td>D20</td>\n",
              "      <td>C</td>\n",
              "    </tr>\n",
              "    <tr>\n",
              "      <th>305</th>\n",
              "      <td>306</td>\n",
              "      <td>1</td>\n",
              "      <td>1</td>\n",
              "      <td>Allison, Master. Hudson Trevor</td>\n",
              "      <td>male</td>\n",
              "      <td>0.92</td>\n",
              "      <td>1</td>\n",
              "      <td>2</td>\n",
              "      <td>113781</td>\n",
              "      <td>151.5500</td>\n",
              "      <td>C22 C26</td>\n",
              "      <td>S</td>\n",
              "    </tr>\n",
              "    <tr>\n",
              "      <th>187</th>\n",
              "      <td>188</td>\n",
              "      <td>1</td>\n",
              "      <td>1</td>\n",
              "      <td>Romaine, Mr. Charles Hallace (\"Mr C Rolmane\")</td>\n",
              "      <td>male</td>\n",
              "      <td>45.00</td>\n",
              "      <td>0</td>\n",
              "      <td>0</td>\n",
              "      <td>111428</td>\n",
              "      <td>26.5500</td>\n",
              "      <td>NaN</td>\n",
              "      <td>S</td>\n",
              "    </tr>\n",
              "    <tr>\n",
              "      <th>152</th>\n",
              "      <td>153</td>\n",
              "      <td>0</td>\n",
              "      <td>3</td>\n",
              "      <td>Meo, Mr. Alfonzo</td>\n",
              "      <td>male</td>\n",
              "      <td>55.50</td>\n",
              "      <td>0</td>\n",
              "      <td>0</td>\n",
              "      <td>A.5. 11206</td>\n",
              "      <td>8.0500</td>\n",
              "      <td>NaN</td>\n",
              "      <td>S</td>\n",
              "    </tr>\n",
              "    <tr>\n",
              "      <th>126</th>\n",
              "      <td>127</td>\n",
              "      <td>0</td>\n",
              "      <td>3</td>\n",
              "      <td>McMahon, Mr. Martin</td>\n",
              "      <td>male</td>\n",
              "      <td>NaN</td>\n",
              "      <td>0</td>\n",
              "      <td>0</td>\n",
              "      <td>370372</td>\n",
              "      <td>7.7500</td>\n",
              "      <td>NaN</td>\n",
              "      <td>Q</td>\n",
              "    </tr>\n",
              "  </tbody>\n",
              "</table>\n",
              "</div>"
            ],
            "text/plain": [
              "     PassengerId  Survived  Pclass  \\\n",
              "496          497         1       1   \n",
              "305          306         1       1   \n",
              "187          188         1       1   \n",
              "152          153         0       3   \n",
              "126          127         0       3   \n",
              "\n",
              "                                              Name     Sex    Age  SibSp  \\\n",
              "496                 Eustis, Miss. Elizabeth Mussey  female  54.00      1   \n",
              "305                 Allison, Master. Hudson Trevor    male   0.92      1   \n",
              "187  Romaine, Mr. Charles Hallace (\"Mr C Rolmane\")    male  45.00      0   \n",
              "152                               Meo, Mr. Alfonzo    male  55.50      0   \n",
              "126                            McMahon, Mr. Martin    male    NaN      0   \n",
              "\n",
              "     Parch      Ticket      Fare    Cabin Embarked  \n",
              "496      0       36947   78.2667      D20        C  \n",
              "305      2      113781  151.5500  C22 C26        S  \n",
              "187      0      111428   26.5500      NaN        S  \n",
              "152      0  A.5. 11206    8.0500      NaN        S  \n",
              "126      0      370372    7.7500      NaN        Q  "
            ]
          },
          "execution_count": 34,
          "metadata": {},
          "output_type": "execute_result"
        }
      ],
      "source": [
        "titanic_sample = titanic_df.sample(100)\n",
        "titanic_sample.head()"
      ]
    },
    {
      "cell_type": "code",
      "execution_count": 35,
      "metadata": {
        "colab": {
          "base_uri": "https://localhost:8080/"
        },
        "id": "rPoqLr82qJ2v",
        "outputId": "6fa58d23-d57a-4df4-f250-0b94ea2e19d2"
      },
      "outputs": [
        {
          "name": "stdout",
          "output_type": "stream",
          "text": [
            "Estimated mean: 30.651463414634147\n",
            "Estimated std: 14.674701176586249\n",
            "Sample size: 100\n"
          ]
        }
      ],
      "source": [
        "estimated_mean_age = titanic_sample['Age'].mean()\n",
        "estimated_std_age = titanic_sample['Age'].std()\n",
        "n_sample = titanic_sample.shape[0]\n",
        "\n",
        "print(f'Estimated mean: {estimated_mean_age}')\n",
        "print(f'Estimated std: {estimated_std_age}')\n",
        "print(f'Sample size: {n_sample}')"
      ]
    },
    {
      "cell_type": "code",
      "execution_count": 36,
      "metadata": {
        "colab": {
          "base_uri": "https://localhost:8080/"
        },
        "id": "N5TEqJtVqZR8",
        "outputId": "d2edb8c5-8073-4f9d-a00f-0125ad2ec587"
      },
      "outputs": [
        {
          "name": "stdout",
          "output_type": "stream",
          "text": [
            "Sampling distribution std: 1.467470117658625\n",
            "Confidence interval: (27.716523179316898, 33.5864036499514)\n"
          ]
        }
      ],
      "source": [
        "sampling_dist_std_age = estimated_std_age / np.sqrt(n_sample)\n",
        "\n",
        "print(f'Sampling distribution std: {sampling_dist_std_age}')\n",
        "\n",
        "#Print confidence interval\n",
        "print(f'Confidence interval: ({estimated_mean_age - 2 * sampling_dist_std_age}, {estimated_mean_age + 2 * sampling_dist_std_age})')"
      ]
    },
    {
      "cell_type": "code",
      "execution_count": 37,
      "metadata": {
        "colab": {
          "base_uri": "https://localhost:8080/"
        },
        "id": "6Qg9UYCvqmoJ",
        "outputId": "203bd7a8-338f-4b57-907e-11fb129367ed"
      },
      "outputs": [
        {
          "name": "stdout",
          "output_type": "stream",
          "text": [
            "True mean: 29.69911764705882\n"
          ]
        }
      ],
      "source": [
        "print(f\"True mean: {titanic_df['Age'].mean()}\")"
      ]
    },
    {
      "cell_type": "markdown",
      "metadata": {
        "id": "WfS4NcT4sX8i"
      },
      "source": [
        "# Hypothesis Testing\n",
        "\n",
        "For hypothesis testing, we use all the pieces from method of confidence interval but we flip the question.\n",
        "\n",
        "Instead of asking what is the true mean and providing confidence interval for it, we assume a true mean based on some hypothesis, calculated confidence interval based on the sample and accept or reject the hypothesis based on whether true mean falls in the confidence interval or not.\n",
        "\n",
        "We accept or reject by defining P-value i.e. probability of being wrong. If P-value is 0.05, we need to find 100 - 5 i.e. 95% confidence interval\n",
        "\n",
        "**General Framework for Hypothesis testing:**\n",
        "\n",
        "Example: Average age of people on Titanic was 20 years\n",
        "\n",
        "Acceptable p-value = 0.05\n",
        "\n",
        "\n",
        "1. Define the quantity of interest\n",
        "  - Mean i.e. $\\mu$\n",
        "2. Identify sampling distribution for the quantity\n",
        "  - Normal Distribution for Mean\n",
        "3. Estimate the parameters of the sampling distribution from the sample\n",
        "  - ($\\mu_{estimated}, \\sigma_{estimated}, \\sigma_{sampling\\_dist})$\n",
        "4. Assume a hypothesis, often called Null Hypothesis\n",
        "  - $\\mu$ = 25\n",
        "5. Check whether Null Hypothesis can be true based on properties sampling distribtion\n",
        "  - Calculate 95% confidence interval and check if 20 is present in the confidence interval  \n",
        "6. Accept or reject hypothesis\n",
        "  - Rejected, since 20 is not in confidence interval"
      ]
    },
    {
      "cell_type": "markdown",
      "metadata": {
        "id": "W1j4uJv-0tp1"
      },
      "source": [
        "## t-test\n",
        "\n",
        "The t-test is used to compare the means of two independent groups to see if they are significantly different.\n",
        "\n",
        "Quantity of interest:\n",
        "$$\n",
        "  t = \\frac{\\mu_1 - \\mu_2}{\\sqrt{\\frac{\\sigma_1^2}{n_1} + \\frac{\\sigma_2^2}{n_2}}}\n",
        "$$\n",
        "\n",
        "Null Hypothesis: Both the groups have same mean"
      ]
    },
    {
      "cell_type": "markdown",
      "metadata": {
        "id": "RYYuJbPb1xGz"
      },
      "source": [
        "### Example: Titanic Dataset - Compare average fare between survivors and non-survivors\n",
        "\n",
        "Null Hypothesis: Mean fare of survivors = mean fare of non-survivors"
      ]
    },
    {
      "cell_type": "code",
      "execution_count": 38,
      "metadata": {
        "colab": {
          "base_uri": "https://localhost:8080/"
        },
        "id": "R-2XygS1xU6z",
        "outputId": "385d9ff3-5066-4be0-a287-567a878aef67"
      },
      "outputs": [
        {
          "name": "stdout",
          "output_type": "stream",
          "text": [
            "t-statistic: 6.839099259085254\n",
            "p-value: 2.6993323503141236e-11\n"
          ]
        }
      ],
      "source": [
        "from scipy.stats import ttest_ind\n",
        "\n",
        "# Split into two groups\n",
        "fare_survived = titanic_df[titanic_df['Survived'] == 1]['Fare']\n",
        "fare_not_survived = titanic_df[titanic_df['Survived'] == 0]['Fare']\n",
        "\n",
        "# t-test (Welch’s by default)\n",
        "t_stat, p = ttest_ind(fare_survived, fare_not_survived, equal_var=False)\n",
        "\n",
        "print(\"t-statistic:\", t_stat)\n",
        "print(\"p-value:\", p)"
      ]
    },
    {
      "cell_type": "markdown",
      "metadata": {
        "id": "YiP3-erV22pz"
      },
      "source": [
        "Since p-value < 0.05, we will reject the Null Hypothesis.\n",
        "\n",
        "**Insight:** The fare changes the probability of survival"
      ]
    },
    {
      "cell_type": "markdown",
      "metadata": {
        "id": "sNl3YQD24MPR"
      },
      "source": [
        "## Chi-Squared Test\n",
        "\n",
        "The Chi-Squared Test checkes whether two categorical variables are statistically independent or if there is a significant association between them\n",
        "\n",
        "We build a contingency table (cross-tabulation) and compare observed counts with expected counts under the assumption that the variables are independent.\n",
        "\n",
        "Quantity of interest:\n",
        "$$\n",
        "  \\chi^2 = \\Sigma{\\frac{(O - E)^2}{E}}\n",
        "$$\n",
        "\n",
        "where O = observed frequency, E = expected frequency (assuming independence)\n",
        "\n",
        "Null Hypothesis: Both the categorical variables are independent"
      ]
    },
    {
      "cell_type": "markdown",
      "metadata": {
        "id": "hGLzPif953y1"
      },
      "source": [
        "### Example: Titanic Dataset - Does survival depends on gender?\n",
        "\n",
        "Null Hypothesis: Gender have no effect on the survival"
      ]
    },
    {
      "cell_type": "code",
      "execution_count": 39,
      "metadata": {
        "colab": {
          "base_uri": "https://localhost:8080/"
        },
        "id": "F-TMWpVb29Mi",
        "outputId": "ac5a8677-a1b0-4d66-85ec-8816858eacad"
      },
      "outputs": [
        {
          "name": "stdout",
          "output_type": "stream",
          "text": [
            "Chi-square statistic: 260.71702016732104\n",
            "Degrees of freedom: 1\n",
            "p-value: 1.197357062775565e-58\n"
          ]
        }
      ],
      "source": [
        "from scipy.stats import chi2_contingency\n",
        "\n",
        "\n",
        "# Create contingency table\n",
        "table = pd.crosstab(titanic_df['Sex'], titanic_df['Survived'])\n",
        "\n",
        "# Chi-square test\n",
        "chi2, p, dof, expected = chi2_contingency(table)\n",
        "\n",
        "print(\"Chi-square statistic:\", chi2)\n",
        "print(\"Degrees of freedom:\", dof)\n",
        "print(\"p-value:\", p)\n"
      ]
    },
    {
      "cell_type": "markdown",
      "metadata": {
        "id": "_1y4CIpd5kHP"
      },
      "source": [
        "Since p-value < 0.05, we will reject the Null Hypothesis.\n",
        "\n",
        "**Insight:** Survival dependents on the gender of the person."
      ]
    },
    {
      "cell_type": "markdown",
      "metadata": {
        "id": "M5KPNwfy6kVe"
      },
      "source": [
        "## Activity: Use Chi-Squared test to find out whether Passenger class (PClass column) had any impact on the survival or not"
      ]
    },
    {
      "cell_type": "code",
      "execution_count": 40,
      "metadata": {
        "colab": {
          "base_uri": "https://localhost:8080/"
        },
        "id": "hRSHHpbv6whh",
        "outputId": "753aa7b0-b05e-4c0f-b590-586c3f7c0a48"
      },
      "outputs": [
        {
          "name": "stdout",
          "output_type": "stream",
          "text": [
            "Chi-square statistic: 102.88898875696056\n",
            "Degrees of freedom: 2\n",
            "p-value: 4.549251711298793e-23\n"
          ]
        }
      ],
      "source": [
        "from scipy.stats import chi2_contingency\n",
        "\n",
        "\n",
        "# Create contingency table\n",
        "table = pd.crosstab(titanic_df['Pclass'], titanic_df['Survived'])\n",
        "\n",
        "# Chi-square test\n",
        "chi2, p, dof, expected = chi2_contingency(table)\n",
        "\n",
        "print(\"Chi-square statistic:\", chi2)\n",
        "print(\"Degrees of freedom:\", dof)\n",
        "print(\"p-value:\", p)"
      ]
    }
  ],
  "metadata": {
    "colab": {
      "collapsed_sections": [
        "2qQgbewoR5Mb",
        "amGH6JG8_jCR",
        "Kk-vaLYSHHQe",
        "pHY13D2EFp5-",
        "oYG3H4cz_U4I",
        "iGk4MVz0vlXV",
        "3HGek-s3Lij4",
        "qJK-IOZ5SULr",
        "OyFFL3hvOskw",
        "L1RbOKlHZ7he",
        "ml76jC1AooPs",
        "WfS4NcT4sX8i",
        "W1j4uJv-0tp1",
        "RYYuJbPb1xGz",
        "M5KPNwfy6kVe"
      ],
      "provenance": []
    },
    "kernelspec": {
      "display_name": "Python 3",
      "name": "python3"
    },
    "language_info": {
      "codemirror_mode": {
        "name": "ipython",
        "version": 3
      },
      "file_extension": ".py",
      "mimetype": "text/x-python",
      "name": "python",
      "nbconvert_exporter": "python",
      "pygments_lexer": "ipython3",
      "version": "3.10.8"
    }
  },
  "nbformat": 4,
  "nbformat_minor": 0
}
